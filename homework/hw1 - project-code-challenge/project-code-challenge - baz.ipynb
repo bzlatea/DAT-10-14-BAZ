{
 "cells": [
  {
   "cell_type": "markdown",
   "metadata": {},
   "source": [
    "<img src=\"http://imgur.com/1ZcRyrc.png\" style=\"float: left; margin: 20px; height: 55px\">\n",
    "\n",
    "# Project 1: Python Coding Exercises\n",
    "\n",
    "_Authors: Joseph Nelson (DC) _\n",
    "\n",
    "---"
   ]
  },
  {
   "cell_type": "markdown",
   "metadata": {},
   "source": [
    "The following code challenges are drawn from common exercises used in technical interviews.\n",
    "\n",
    "Please note that there may be several ways to approach each challenge. If you get stuck, try mapping out your approach in pseudocode first. Finally, while solutions to problems like these may be found online, remember that if you copy/paste code that you can't explain, you'll be missing out on the point of the project. The only way to truly learn a new skill is through practice, trial, and error - we can only help you improve by understanding where you are having trouble."
   ]
  },
  {
   "cell_type": "markdown",
   "metadata": {},
   "source": [
    "### Challenge 1: Largest Palindrome\n",
    "A palindromic number reads the same both ways. For example, 1234321 is a palindrome. The largest palindrome made from the product of two two-digit numbers is 9009 = 91 × 99. Find the largest palindrome made from the product of two three-digit numbers. Afterward, write a brief explanation walking through your code's logic in markdown."
   ]
  },
  {
   "cell_type": "code",
   "execution_count": 478,
   "metadata": {},
   "outputs": [
    {
     "data": {
      "text/plain": [
       "906609"
      ]
     },
     "execution_count": 478,
     "metadata": {},
     "output_type": "execute_result"
    }
   ],
   "source": [
    "# create a list with all the three-digit numbers\n",
    "# create a new list with the products of each member of the 3-digit list to each other\n",
    "# check if the products are palindromes: convert to string, split in half and check if one half is equal to the reverse of the back half\n",
    "# return largest palindrome in product list\n",
    "\n",
    "\n",
    "\n",
    "# generate a list with all three-digit numbers and \n",
    "three_digit_list = list(range(100,1000))\n",
    "\n",
    "# define a function that multiplies every member of a list to each other\n",
    "def generate_product_list(test_list):  \n",
    "    new_list = []\n",
    "    product = 1 \n",
    "    for num in test_list:\n",
    "        for num_2 in test_list:\n",
    "            product = num * num_2\n",
    "            new_list.append(product)     \n",
    "    return new_list\n",
    "\n",
    "# define a function that converts list items to string; checks if the string is equal to its reverse\n",
    "def check_palindrome(new_list):\n",
    "    palindrome_list = [num for num in new_list if str(num) == str(num)[::-1]]\n",
    "    return palindrome_list\n",
    "\n",
    "#find largest member of palindrome list\n",
    "max(check_palindrome(generate_product_list(three_digit_list)))\n"
   ]
  },
  {
   "cell_type": "markdown",
   "metadata": {},
   "source": [
    "\n",
    "### Challenge 2: Summation of Primes\n",
    "The sum of the primes below 10 is 2 + 3 + 5 + 7 = 17. Find the sum of all the primes below 2,000. Afterward, write a brief explanation walking through your code's logic in markdown."
   ]
  },
  {
   "cell_type": "code",
   "execution_count": 294,
   "metadata": {},
   "outputs": [],
   "source": [
    "# definition of prime numbers: \n",
    "# positive integer\n",
    "# has exactly one positive divisor other than 1\n",
    "# 1 is not a prime number"
   ]
  },
  {
   "cell_type": "code",
   "execution_count": 481,
   "metadata": {},
   "outputs": [
    {
     "data": {
      "text/plain": [
       "277050"
      ]
     },
     "execution_count": 481,
     "metadata": {},
     "output_type": "execute_result"
    }
   ],
   "source": [
    "#create a list of all numbers below 2000 and above 1\n",
    "check_list = list(range(2,2000))\n",
    "\n",
    "\n",
    "#define a function that returns a list of prime numbers from a larger list\n",
    "def check_primes(possible_list):\n",
    "    primes = []\n",
    "    for possible_prime in possible_list:\n",
    "        prime_num = True\n",
    "        \n",
    "        #loop through all the possible divisors of a potential prime number, other than 1 and itself\n",
    "        #if any of the divisors cleanly divide the potential number, the remainder will be zero and the number is not prime\n",
    "        for num in range(2, possible_prime):\n",
    "            if possible_prime % num == 0:\n",
    "                prime_num = False\n",
    "        #if the none of the divisors cleanly divide the number, add to the list of prime numbers\n",
    "        if prime_num:\n",
    "            primes.append(possible_prime)\n",
    "    \n",
    "    return(primes)\n",
    "        \n",
    "#create a function that adds the members of a list\n",
    "def add_list(list_name):\n",
    "    total = 0\n",
    "    for num in list_name:\n",
    "        total+=num\n",
    "         \n",
    "    return total\n",
    "\n",
    "\n",
    "add_list(check_primes(check_list))\n"
   ]
  },
  {
   "cell_type": "markdown",
   "metadata": {},
   "source": [
    "### Challenge 3: Multiples of 3 and 5\n",
    "If we list all of the natural numbers below 10 that are multiples of 3 or 5, we get 3, 5, 6, and 9. The sum of these multiples is 23. Find the sum of all the multiples of 3 and 5 below 1,000. Afterward, write a brief explanation walking through your code's logic in markdown."
   ]
  },
  {
   "cell_type": "code",
   "execution_count": 225,
   "metadata": {},
   "outputs": [
    {
     "data": {
      "text/plain": [
       "233168"
      ]
     },
     "execution_count": 225,
     "metadata": {},
     "output_type": "execute_result"
    }
   ],
   "source": [
    "#create a variable that is equal to zero that will eventually store a sum\n",
    "total = 0\n",
    "\n",
    "#loop through a list of natural numbers, non-zero, below 1000\n",
    "for num in list(range(0,1000)):\n",
    "    #if the num is divisible by 3 or 5 or both, add the value of the number to the total\n",
    "    if (num%3 == 0) or (num%5 == 0):\n",
    "        total += num\n",
    "\n",
    "total"
   ]
  },
  {
   "cell_type": "code",
   "execution_count": 6,
   "metadata": {},
   "outputs": [
    {
     "name": "stdout",
     "output_type": "stream",
     "text": [
      "233168\n"
     ]
    }
   ],
   "source": [
    "#more concise version\n",
    "total = sum(num for num in list(range(0,1000)) if (num%3 == 0) or (num%5 == 0))\n",
    "print(total)"
   ]
  },
  {
   "cell_type": "markdown",
   "metadata": {},
   "source": [
    "### Challenge 4: String Compressor\n",
    "Implement a method to perform basic string compression using the counts of repeated characters. (This is called run-length encoding.) For example, the string \"aabcccccaaa\" would become a2b1c5a3. If the “compressed” string would not become smaller than the original string, your method should return the original string. You can assume the string has only uppercase and lowercase letters (a–z). Specify whether your solution is case sensitive or case insensitive and what you would need to change to make it the other. Afterward, write a brief explanation walking through your code's logic in markdown."
   ]
  },
  {
   "cell_type": "code",
   "execution_count": 537,
   "metadata": {},
   "outputs": [
    {
     "name": "stdout",
     "output_type": "stream",
     "text": [
      "a2b1c5a3\n",
      "sciences\n"
     ]
    }
   ],
   "source": [
    "# this string compression function is case-sensitive \n",
    "\n",
    "string = 'aabcccccaaa'\n",
    "string2 = 'sciences'\n",
    "\n",
    "\n",
    "def generate_compressed_string(string):\n",
    "    #create the empty string to store the compressed string\n",
    "    compressed_string = ''\n",
    "    count_char = 1\n",
    "    \n",
    "    #loop through the input string, check if the character and the next character are equal\n",
    "    for char in range(len(string)-1):\n",
    "        if string[char] == string[char+1]:\n",
    "            count_char+=1  \n",
    "        else:\n",
    "            #add the character and count of the characters to the string and reset the counter\n",
    "            compressed_string+=string[char]+str(count_char)\n",
    "            count_char = 1\n",
    "            \n",
    "    #in order to grab the last character\n",
    "    compressed_string+=check_letter+str(count_char)\n",
    "\n",
    "    return compressed_string\n",
    "\n",
    "#define function that checks the length of the compressed string against that of the original string\n",
    "def check_string_length(string,compressed_string):\n",
    "    if len(string)<len(compressed_string):\n",
    "        return string\n",
    "    else:\n",
    "        return compressed_string\n",
    "\n",
    "\n",
    "print(check_string_length(string,generate_compressed_string(string)))\n",
    "print(check_string_length(string2,generate_compressed_string(string2)))"
   ]
  },
  {
   "cell_type": "markdown",
   "metadata": {},
   "source": [
    "### *BONUS* Challenge: FizzBuzz\n",
    "Write a program that prints all of the numbers from 1 to 100. For multiples of 3, instead of the number, print \"Fizz;\" for multiples of 5, print \"Buzz.\" For numbers that are multiples of both 3 and 5, print \"FizzBuzz.\" Afterward, write a brief explanation walking through your code's logic in markdown."
   ]
  },
  {
   "cell_type": "code",
   "execution_count": 525,
   "metadata": {},
   "outputs": [
    {
     "data": {
      "text/plain": [
       "[1,\n",
       " 2,\n",
       " 'Fizz',\n",
       " 4,\n",
       " 'Buzz',\n",
       " 'Fizz',\n",
       " 7,\n",
       " 8,\n",
       " 'Fizz',\n",
       " 'Buzz',\n",
       " 11,\n",
       " 'Fizz',\n",
       " 13,\n",
       " 14,\n",
       " 'FizzBuzz',\n",
       " 16,\n",
       " 17,\n",
       " 'Fizz',\n",
       " 19,\n",
       " 'Buzz',\n",
       " 'Fizz',\n",
       " 22,\n",
       " 23,\n",
       " 'Fizz',\n",
       " 'Buzz',\n",
       " 26,\n",
       " 'Fizz',\n",
       " 28,\n",
       " 29,\n",
       " 'FizzBuzz',\n",
       " 31,\n",
       " 32,\n",
       " 'Fizz',\n",
       " 34,\n",
       " 'Buzz',\n",
       " 'Fizz',\n",
       " 37,\n",
       " 38,\n",
       " 'Fizz',\n",
       " 'Buzz',\n",
       " 41,\n",
       " 'Fizz',\n",
       " 43,\n",
       " 44,\n",
       " 'FizzBuzz',\n",
       " 46,\n",
       " 47,\n",
       " 'Fizz',\n",
       " 49,\n",
       " 'Buzz',\n",
       " 'Fizz',\n",
       " 52,\n",
       " 53,\n",
       " 'Fizz',\n",
       " 'Buzz',\n",
       " 56,\n",
       " 'Fizz',\n",
       " 58,\n",
       " 59,\n",
       " 'FizzBuzz',\n",
       " 61,\n",
       " 62,\n",
       " 'Fizz',\n",
       " 64,\n",
       " 'Buzz',\n",
       " 'Fizz',\n",
       " 67,\n",
       " 68,\n",
       " 'Fizz',\n",
       " 'Buzz',\n",
       " 71,\n",
       " 'Fizz',\n",
       " 73,\n",
       " 74,\n",
       " 'FizzBuzz',\n",
       " 76,\n",
       " 77,\n",
       " 'Fizz',\n",
       " 79,\n",
       " 'Buzz',\n",
       " 'Fizz',\n",
       " 82,\n",
       " 83,\n",
       " 'Fizz',\n",
       " 'Buzz',\n",
       " 86,\n",
       " 'Fizz',\n",
       " 88,\n",
       " 89,\n",
       " 'FizzBuzz',\n",
       " 91,\n",
       " 92,\n",
       " 'Fizz',\n",
       " 94,\n",
       " 'Buzz',\n",
       " 'Fizz',\n",
       " 97,\n",
       " 98,\n",
       " 'Fizz',\n",
       " 'Buzz']"
      ]
     },
     "execution_count": 525,
     "metadata": {},
     "output_type": "execute_result"
    }
   ],
   "source": [
    "#generate a list of numbers from 1 to 100\n",
    "number_list =list(range(1,101))\n",
    "\n",
    "#define a function that takes a list as an argument and generates a new list with multiples of 3 and 5 replaced by 'Fizz', \"Buzz\" and \"FizzBuzz\"\n",
    "\n",
    "def fizzbuzz(the_list):\n",
    "\n",
    "    new_list = []\n",
    "    \n",
    "    for num in the_list:\n",
    "        if (num%3==0) and (num%5==0):\n",
    "            new_list.append(\"FizzBuzz\")\n",
    "        elif num%3==0:\n",
    "            new_list.append(\"Fizz\")\n",
    "        elif num%5==0:\n",
    "            new_list.append(\"Buzz\")\n",
    "        else:\n",
    "            new_list.append(num)\n",
    "            \n",
    "    return new_list\n",
    "\n",
    "fizzbuzz(number_list)"
   ]
  },
  {
   "cell_type": "code",
   "execution_count": null,
   "metadata": {},
   "outputs": [],
   "source": []
  }
 ],
 "metadata": {
  "anaconda-cloud": {},
  "kernelspec": {
   "display_name": "Python 3",
   "language": "python",
   "name": "python3"
  },
  "language_info": {
   "codemirror_mode": {
    "name": "ipython",
    "version": 3
   },
   "file_extension": ".py",
   "mimetype": "text/x-python",
   "name": "python",
   "nbconvert_exporter": "python",
   "pygments_lexer": "ipython3",
   "version": "3.7.3"
  }
 },
 "nbformat": 4,
 "nbformat_minor": 2
}
