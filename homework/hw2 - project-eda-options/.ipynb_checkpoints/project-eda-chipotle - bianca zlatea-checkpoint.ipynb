{
 "cells": [
  {
   "cell_type": "markdown",
   "metadata": {},
   "source": [
    "<img src=\"http://imgur.com/1ZcRyrc.png\" style=\"float: left; margin: 20px; height: 55px\">\n",
    "\n",
    "# Project 2: Analyzing Chipotle Data\n",
    "\n",
    "_Author: Joseph Nelson (DC)_\n",
    "\n",
    "---"
   ]
  },
  {
   "cell_type": "markdown",
   "metadata": {},
   "source": [
    "For Project 2, you will complete a series of exercises exploring [order data from Chipotle](https://github.com/TheUpshot/chipotle), compliments of _The New York Times'_ \"The Upshot.\"\n",
    "\n",
    "For these exercises, you will conduct basic exploratory data analysis (Pandas not required) to understand the essentials of Chipotle's order data: how many orders are being made, the average price per order, how many different ingredients are used, etc. These allow you to practice business analysis skills while also becoming comfortable with Python."
   ]
  },
  {
   "cell_type": "markdown",
   "metadata": {},
   "source": [
    "---\n",
    "\n",
    "## Basic Level"
   ]
  },
  {
   "cell_type": "markdown",
   "metadata": {},
   "source": [
    "### Part 1: Read in the file with `csv.reader()` and store it in an object called `file_nested_list`.\n",
    "\n",
    "Hint: This is a TSV (tab-separated value) file, and `csv.reader()` needs to be told [how to handle it](https://docs.python.org/2/library/csv.html)."
   ]
  },
  {
   "cell_type": "code",
   "execution_count": 2,
   "metadata": {},
   "outputs": [],
   "source": [
    "import csv\n",
    "from collections import namedtuple   # Convenient to store the data rows\n",
    "import numpy as np\n",
    "import pandas as pd\n",
    "import matplotlib.pyplot as plt\n",
    "import seaborn as sns\n",
    "\n",
    "DATA_FILE = './data/chipotle.tsv'"
   ]
  },
  {
   "cell_type": "code",
   "execution_count": 3,
   "metadata": {},
   "outputs": [],
   "source": [
    "file_nested_list = pd.read_csv(DATA_FILE, sep = '\t')"
   ]
  },
  {
   "cell_type": "code",
   "execution_count": 4,
   "metadata": {},
   "outputs": [],
   "source": [
    "#check data types of the columns - see that the item_price is an object, not integer or float\n",
    "file_nested_list.dtypes\n",
    "\n",
    "#create a new column to remove the dollar sign from the string and convert it to a float (to keep the cents)\n",
    "file_nested_list['true_price']=file_nested_list.item_price.replace({'\\$':''}, regex = True)\n",
    "\n",
    "file_nested_list['true_price'] = pd.to_numeric(file_nested_list['true_price'], errors='coerce')\n",
    "#df['true_price'].astype(float)\n"
   ]
  },
  {
   "cell_type": "markdown",
   "metadata": {},
   "source": [
    "### Part 2: Separate `file_nested_list` into the `header` and the `data`.\n"
   ]
  },
  {
   "cell_type": "code",
   "execution_count": 6,
   "metadata": {},
   "outputs": [],
   "source": [
    "file_nested_list.head()\n",
    "\n",
    "header = file_nested_list.columns.values"
   ]
  },
  {
   "cell_type": "markdown",
   "metadata": {},
   "source": [
    "---\n",
    "\n",
    "## Intermediate Level"
   ]
  },
  {
   "cell_type": "markdown",
   "metadata": {},
   "source": [
    "### Part 3: Calculate the average price of an order.\n",
    "\n",
    "Hint: Examine the data to see if the `quantity` column is relevant to this calculation.\n",
    "\n",
    "Hint: Think carefully about the simplest way to do this!"
   ]
  },
  {
   "cell_type": "code",
   "execution_count": 7,
   "metadata": {},
   "outputs": [
    {
     "data": {
      "text/html": [
       "<div>\n",
       "<style scoped>\n",
       "    .dataframe tbody tr th:only-of-type {\n",
       "        vertical-align: middle;\n",
       "    }\n",
       "\n",
       "    .dataframe tbody tr th {\n",
       "        vertical-align: top;\n",
       "    }\n",
       "\n",
       "    .dataframe thead th {\n",
       "        text-align: right;\n",
       "    }\n",
       "</style>\n",
       "<table border=\"1\" class=\"dataframe\">\n",
       "  <thead>\n",
       "    <tr style=\"text-align: right;\">\n",
       "      <th></th>\n",
       "      <th>order_id</th>\n",
       "      <th>quantity</th>\n",
       "      <th>item_name</th>\n",
       "      <th>choice_description</th>\n",
       "      <th>item_price</th>\n",
       "      <th>true_price</th>\n",
       "    </tr>\n",
       "  </thead>\n",
       "  <tbody>\n",
       "    <tr>\n",
       "      <th>3598</th>\n",
       "      <td>1443</td>\n",
       "      <td>15</td>\n",
       "      <td>Chips and Fresh Tomato Salsa</td>\n",
       "      <td>NaN</td>\n",
       "      <td>$44.25</td>\n",
       "      <td>44.25</td>\n",
       "    </tr>\n",
       "    <tr>\n",
       "      <th>4152</th>\n",
       "      <td>1660</td>\n",
       "      <td>10</td>\n",
       "      <td>Bottled Water</td>\n",
       "      <td>NaN</td>\n",
       "      <td>$15.00</td>\n",
       "      <td>15.00</td>\n",
       "    </tr>\n",
       "    <tr>\n",
       "      <th>3887</th>\n",
       "      <td>1559</td>\n",
       "      <td>8</td>\n",
       "      <td>Side of Chips</td>\n",
       "      <td>NaN</td>\n",
       "      <td>$13.52</td>\n",
       "      <td>13.52</td>\n",
       "    </tr>\n",
       "    <tr>\n",
       "      <th>3599</th>\n",
       "      <td>1443</td>\n",
       "      <td>7</td>\n",
       "      <td>Bottled Water</td>\n",
       "      <td>NaN</td>\n",
       "      <td>$10.50</td>\n",
       "      <td>10.50</td>\n",
       "    </tr>\n",
       "    <tr>\n",
       "      <th>2441</th>\n",
       "      <td>970</td>\n",
       "      <td>5</td>\n",
       "      <td>Bottled Water</td>\n",
       "      <td>NaN</td>\n",
       "      <td>$7.50</td>\n",
       "      <td>7.50</td>\n",
       "    </tr>\n",
       "    <tr>\n",
       "      <th>4491</th>\n",
       "      <td>1786</td>\n",
       "      <td>4</td>\n",
       "      <td>Canned Soft Drink</td>\n",
       "      <td>[Sprite]</td>\n",
       "      <td>$5.00</td>\n",
       "      <td>5.00</td>\n",
       "    </tr>\n",
       "    <tr>\n",
       "      <th>3602</th>\n",
       "      <td>1443</td>\n",
       "      <td>4</td>\n",
       "      <td>Chicken Burrito</td>\n",
       "      <td>[Fresh Tomato Salsa, [Rice, Black Beans, Chees...</td>\n",
       "      <td>$35.00</td>\n",
       "      <td>35.00</td>\n",
       "    </tr>\n",
       "    <tr>\n",
       "      <th>1425</th>\n",
       "      <td>577</td>\n",
       "      <td>4</td>\n",
       "      <td>Bottled Water</td>\n",
       "      <td>NaN</td>\n",
       "      <td>$6.00</td>\n",
       "      <td>6.00</td>\n",
       "    </tr>\n",
       "    <tr>\n",
       "      <th>4489</th>\n",
       "      <td>1786</td>\n",
       "      <td>4</td>\n",
       "      <td>Chips and Guacamole</td>\n",
       "      <td>NaN</td>\n",
       "      <td>$17.80</td>\n",
       "      <td>17.80</td>\n",
       "    </tr>\n",
       "    <tr>\n",
       "      <th>4490</th>\n",
       "      <td>1786</td>\n",
       "      <td>4</td>\n",
       "      <td>Canned Soft Drink</td>\n",
       "      <td>[Coke]</td>\n",
       "      <td>$5.00</td>\n",
       "      <td>5.00</td>\n",
       "    </tr>\n",
       "    <tr>\n",
       "      <th>2235</th>\n",
       "      <td>901</td>\n",
       "      <td>4</td>\n",
       "      <td>Canned Soda</td>\n",
       "      <td>[Sprite]</td>\n",
       "      <td>$4.36</td>\n",
       "      <td>4.36</td>\n",
       "    </tr>\n",
       "    <tr>\n",
       "      <th>1880</th>\n",
       "      <td>759</td>\n",
       "      <td>4</td>\n",
       "      <td>Bottled Water</td>\n",
       "      <td>NaN</td>\n",
       "      <td>$6.00</td>\n",
       "      <td>6.00</td>\n",
       "    </tr>\n",
       "    <tr>\n",
       "      <th>1257</th>\n",
       "      <td>511</td>\n",
       "      <td>4</td>\n",
       "      <td>Chips and Fresh Tomato Salsa</td>\n",
       "      <td>NaN</td>\n",
       "      <td>$11.80</td>\n",
       "      <td>11.80</td>\n",
       "    </tr>\n",
       "    <tr>\n",
       "      <th>3973</th>\n",
       "      <td>1592</td>\n",
       "      <td>4</td>\n",
       "      <td>Canned Soft Drink</td>\n",
       "      <td>[Coke]</td>\n",
       "      <td>$5.00</td>\n",
       "      <td>5.00</td>\n",
       "    </tr>\n",
       "    <tr>\n",
       "      <th>1254</th>\n",
       "      <td>511</td>\n",
       "      <td>4</td>\n",
       "      <td>Chicken Burrito</td>\n",
       "      <td>[Fresh Tomato Salsa, [Fajita Vegetables, Rice,...</td>\n",
       "      <td>$35.00</td>\n",
       "      <td>35.00</td>\n",
       "    </tr>\n",
       "    <tr>\n",
       "      <th>409</th>\n",
       "      <td>178</td>\n",
       "      <td>3</td>\n",
       "      <td>Chicken Bowl</td>\n",
       "      <td>[[Fresh Tomato Salsa (Mild), Tomatillo-Green C...</td>\n",
       "      <td>$32.94</td>\n",
       "      <td>32.94</td>\n",
       "    </tr>\n",
       "    <tr>\n",
       "      <th>917</th>\n",
       "      <td>379</td>\n",
       "      <td>3</td>\n",
       "      <td>Canned Soft Drink</td>\n",
       "      <td>[Lemonade]</td>\n",
       "      <td>$3.75</td>\n",
       "      <td>3.75</td>\n",
       "    </tr>\n",
       "    <tr>\n",
       "      <th>3601</th>\n",
       "      <td>1443</td>\n",
       "      <td>3</td>\n",
       "      <td>Veggie Burrito</td>\n",
       "      <td>[Fresh Tomato Salsa, [Fajita Vegetables, Rice,...</td>\n",
       "      <td>$33.75</td>\n",
       "      <td>33.75</td>\n",
       "    </tr>\n",
       "    <tr>\n",
       "      <th>3603</th>\n",
       "      <td>1443</td>\n",
       "      <td>3</td>\n",
       "      <td>Steak Burrito</td>\n",
       "      <td>[Fresh Tomato Salsa, [Rice, Black Beans, Chees...</td>\n",
       "      <td>$27.75</td>\n",
       "      <td>27.75</td>\n",
       "    </tr>\n",
       "    <tr>\n",
       "      <th>3089</th>\n",
       "      <td>1231</td>\n",
       "      <td>3</td>\n",
       "      <td>Canned Soft Drink</td>\n",
       "      <td>[Diet Coke]</td>\n",
       "      <td>$3.75</td>\n",
       "      <td>3.75</td>\n",
       "    </tr>\n",
       "    <tr>\n",
       "      <th>2823</th>\n",
       "      <td>1121</td>\n",
       "      <td>3</td>\n",
       "      <td>Bottled Water</td>\n",
       "      <td>NaN</td>\n",
       "      <td>$3.27</td>\n",
       "      <td>3.27</td>\n",
       "    </tr>\n",
       "    <tr>\n",
       "      <th>850</th>\n",
       "      <td>350</td>\n",
       "      <td>3</td>\n",
       "      <td>Canned Soft Drink</td>\n",
       "      <td>[Sprite]</td>\n",
       "      <td>$3.75</td>\n",
       "      <td>3.75</td>\n",
       "    </tr>\n",
       "    <tr>\n",
       "      <th>3270</th>\n",
       "      <td>1309</td>\n",
       "      <td>3</td>\n",
       "      <td>Chips and Tomatillo-Red Chili Salsa</td>\n",
       "      <td>NaN</td>\n",
       "      <td>$7.17</td>\n",
       "      <td>7.17</td>\n",
       "    </tr>\n",
       "    <tr>\n",
       "      <th>4186</th>\n",
       "      <td>1671</td>\n",
       "      <td>3</td>\n",
       "      <td>Bottled Water</td>\n",
       "      <td>NaN</td>\n",
       "      <td>$4.50</td>\n",
       "      <td>4.50</td>\n",
       "    </tr>\n",
       "    <tr>\n",
       "      <th>3634</th>\n",
       "      <td>1454</td>\n",
       "      <td>3</td>\n",
       "      <td>Chicken Burrito</td>\n",
       "      <td>[Fresh Tomato Salsa]</td>\n",
       "      <td>$26.25</td>\n",
       "      <td>26.25</td>\n",
       "    </tr>\n",
       "    <tr>\n",
       "      <th>4137</th>\n",
       "      <td>1655</td>\n",
       "      <td>3</td>\n",
       "      <td>Bottled Water</td>\n",
       "      <td>NaN</td>\n",
       "      <td>$4.50</td>\n",
       "      <td>4.50</td>\n",
       "    </tr>\n",
       "    <tr>\n",
       "      <th>3636</th>\n",
       "      <td>1454</td>\n",
       "      <td>3</td>\n",
       "      <td>Chicken Burrito</td>\n",
       "      <td>[Fresh Tomato Salsa, Rice]</td>\n",
       "      <td>$26.25</td>\n",
       "      <td>26.25</td>\n",
       "    </tr>\n",
       "    <tr>\n",
       "      <th>4098</th>\n",
       "      <td>1642</td>\n",
       "      <td>3</td>\n",
       "      <td>Canned Soft Drink</td>\n",
       "      <td>[Diet Coke]</td>\n",
       "      <td>$3.75</td>\n",
       "      <td>3.75</td>\n",
       "    </tr>\n",
       "    <tr>\n",
       "      <th>818</th>\n",
       "      <td>338</td>\n",
       "      <td>3</td>\n",
       "      <td>Bottled Water</td>\n",
       "      <td>NaN</td>\n",
       "      <td>$3.27</td>\n",
       "      <td>3.27</td>\n",
       "    </tr>\n",
       "    <tr>\n",
       "      <th>3128</th>\n",
       "      <td>1247</td>\n",
       "      <td>3</td>\n",
       "      <td>Canned Soft Drink</td>\n",
       "      <td>[Diet Coke]</td>\n",
       "      <td>$3.75</td>\n",
       "      <td>3.75</td>\n",
       "    </tr>\n",
       "    <tr>\n",
       "      <th>...</th>\n",
       "      <td>...</td>\n",
       "      <td>...</td>\n",
       "      <td>...</td>\n",
       "      <td>...</td>\n",
       "      <td>...</td>\n",
       "      <td>...</td>\n",
       "    </tr>\n",
       "    <tr>\n",
       "      <th>1575</th>\n",
       "      <td>638</td>\n",
       "      <td>1</td>\n",
       "      <td>Chicken Bowl</td>\n",
       "      <td>[Roasted Chili Corn Salsa, [Rice, Fajita Veget...</td>\n",
       "      <td>$8.75</td>\n",
       "      <td>8.75</td>\n",
       "    </tr>\n",
       "    <tr>\n",
       "      <th>1574</th>\n",
       "      <td>637</td>\n",
       "      <td>1</td>\n",
       "      <td>Canned Soft Drink</td>\n",
       "      <td>[Diet Coke]</td>\n",
       "      <td>$1.25</td>\n",
       "      <td>1.25</td>\n",
       "    </tr>\n",
       "    <tr>\n",
       "      <th>1573</th>\n",
       "      <td>637</td>\n",
       "      <td>1</td>\n",
       "      <td>Chips and Tomatillo Green Chili Salsa</td>\n",
       "      <td>NaN</td>\n",
       "      <td>$2.95</td>\n",
       "      <td>2.95</td>\n",
       "    </tr>\n",
       "    <tr>\n",
       "      <th>1572</th>\n",
       "      <td>637</td>\n",
       "      <td>1</td>\n",
       "      <td>Chips and Guacamole</td>\n",
       "      <td>NaN</td>\n",
       "      <td>$4.45</td>\n",
       "      <td>4.45</td>\n",
       "    </tr>\n",
       "    <tr>\n",
       "      <th>1570</th>\n",
       "      <td>637</td>\n",
       "      <td>1</td>\n",
       "      <td>Chicken Bowl</td>\n",
       "      <td>[Roasted Chili Corn Salsa, [Fajita Vegetables,...</td>\n",
       "      <td>$8.75</td>\n",
       "      <td>8.75</td>\n",
       "    </tr>\n",
       "    <tr>\n",
       "      <th>1596</th>\n",
       "      <td>647</td>\n",
       "      <td>1</td>\n",
       "      <td>Chicken Bowl</td>\n",
       "      <td>[Fresh Tomato Salsa, [Rice, Fajita Vegetables,...</td>\n",
       "      <td>$11.25</td>\n",
       "      <td>11.25</td>\n",
       "    </tr>\n",
       "    <tr>\n",
       "      <th>1569</th>\n",
       "      <td>636</td>\n",
       "      <td>1</td>\n",
       "      <td>Chicken Burrito</td>\n",
       "      <td>[Tomatillo Green Chili Salsa, [Rice, Pinto Bea...</td>\n",
       "      <td>$8.75</td>\n",
       "      <td>8.75</td>\n",
       "    </tr>\n",
       "    <tr>\n",
       "      <th>1568</th>\n",
       "      <td>636</td>\n",
       "      <td>1</td>\n",
       "      <td>Chips and Tomatillo Green Chili Salsa</td>\n",
       "      <td>NaN</td>\n",
       "      <td>$2.95</td>\n",
       "      <td>2.95</td>\n",
       "    </tr>\n",
       "    <tr>\n",
       "      <th>1567</th>\n",
       "      <td>636</td>\n",
       "      <td>1</td>\n",
       "      <td>Chicken Burrito</td>\n",
       "      <td>[Tomatillo Green Chili Salsa, [Rice, Cheese, L...</td>\n",
       "      <td>$8.75</td>\n",
       "      <td>8.75</td>\n",
       "    </tr>\n",
       "    <tr>\n",
       "      <th>1565</th>\n",
       "      <td>635</td>\n",
       "      <td>1</td>\n",
       "      <td>Chicken Burrito</td>\n",
       "      <td>[Fresh Tomato Salsa, Rice]</td>\n",
       "      <td>$8.75</td>\n",
       "      <td>8.75</td>\n",
       "    </tr>\n",
       "    <tr>\n",
       "      <th>1564</th>\n",
       "      <td>635</td>\n",
       "      <td>1</td>\n",
       "      <td>Chips and Guacamole</td>\n",
       "      <td>NaN</td>\n",
       "      <td>$4.45</td>\n",
       "      <td>4.45</td>\n",
       "    </tr>\n",
       "    <tr>\n",
       "      <th>1563</th>\n",
       "      <td>635</td>\n",
       "      <td>1</td>\n",
       "      <td>Steak Bowl</td>\n",
       "      <td>[Tomatillo Green Chili Salsa, [Rice, Cheese, S...</td>\n",
       "      <td>$11.75</td>\n",
       "      <td>11.75</td>\n",
       "    </tr>\n",
       "    <tr>\n",
       "      <th>1578</th>\n",
       "      <td>638</td>\n",
       "      <td>1</td>\n",
       "      <td>Canned Soft Drink</td>\n",
       "      <td>[Sprite]</td>\n",
       "      <td>$1.25</td>\n",
       "      <td>1.25</td>\n",
       "    </tr>\n",
       "    <tr>\n",
       "      <th>1579</th>\n",
       "      <td>639</td>\n",
       "      <td>1</td>\n",
       "      <td>Chicken Bowl</td>\n",
       "      <td>[Fresh Tomato Salsa, [Fajita Vegetables, Rice]]</td>\n",
       "      <td>$8.75</td>\n",
       "      <td>8.75</td>\n",
       "    </tr>\n",
       "    <tr>\n",
       "      <th>1580</th>\n",
       "      <td>639</td>\n",
       "      <td>1</td>\n",
       "      <td>Chips</td>\n",
       "      <td>NaN</td>\n",
       "      <td>$2.15</td>\n",
       "      <td>2.15</td>\n",
       "    </tr>\n",
       "    <tr>\n",
       "      <th>1581</th>\n",
       "      <td>639</td>\n",
       "      <td>1</td>\n",
       "      <td>Canned Soft Drink</td>\n",
       "      <td>[Diet Coke]</td>\n",
       "      <td>$1.25</td>\n",
       "      <td>1.25</td>\n",
       "    </tr>\n",
       "    <tr>\n",
       "      <th>1582</th>\n",
       "      <td>640</td>\n",
       "      <td>1</td>\n",
       "      <td>Steak Burrito</td>\n",
       "      <td>[Roasted Chili Corn Salsa, [Fajita Vegetables,...</td>\n",
       "      <td>$11.75</td>\n",
       "      <td>11.75</td>\n",
       "    </tr>\n",
       "    <tr>\n",
       "      <th>1583</th>\n",
       "      <td>640</td>\n",
       "      <td>1</td>\n",
       "      <td>Chips and Tomatillo Green Chili Salsa</td>\n",
       "      <td>NaN</td>\n",
       "      <td>$2.95</td>\n",
       "      <td>2.95</td>\n",
       "    </tr>\n",
       "    <tr>\n",
       "      <th>1584</th>\n",
       "      <td>641</td>\n",
       "      <td>1</td>\n",
       "      <td>Barbacoa Burrito</td>\n",
       "      <td>[Tomatillo-Green Chili Salsa (Medium), [Rice, ...</td>\n",
       "      <td>$8.99</td>\n",
       "      <td>8.99</td>\n",
       "    </tr>\n",
       "    <tr>\n",
       "      <th>1585</th>\n",
       "      <td>641</td>\n",
       "      <td>1</td>\n",
       "      <td>Nantucket Nectar</td>\n",
       "      <td>[Peach Orange]</td>\n",
       "      <td>$3.39</td>\n",
       "      <td>3.39</td>\n",
       "    </tr>\n",
       "    <tr>\n",
       "      <th>1586</th>\n",
       "      <td>642</td>\n",
       "      <td>1</td>\n",
       "      <td>Steak Burrito</td>\n",
       "      <td>[Roasted Chili Corn Salsa, [Black Beans, Chees...</td>\n",
       "      <td>$9.25</td>\n",
       "      <td>9.25</td>\n",
       "    </tr>\n",
       "    <tr>\n",
       "      <th>1587</th>\n",
       "      <td>642</td>\n",
       "      <td>1</td>\n",
       "      <td>Carnitas Soft Tacos</td>\n",
       "      <td>[Roasted Chili Corn Salsa, [Cheese, Lettuce]]</td>\n",
       "      <td>$9.25</td>\n",
       "      <td>9.25</td>\n",
       "    </tr>\n",
       "    <tr>\n",
       "      <th>1589</th>\n",
       "      <td>643</td>\n",
       "      <td>1</td>\n",
       "      <td>Chips and Tomatillo Green Chili Salsa</td>\n",
       "      <td>NaN</td>\n",
       "      <td>$2.95</td>\n",
       "      <td>2.95</td>\n",
       "    </tr>\n",
       "    <tr>\n",
       "      <th>1590</th>\n",
       "      <td>644</td>\n",
       "      <td>1</td>\n",
       "      <td>Steak Salad Bowl</td>\n",
       "      <td>[Fresh Tomato Salsa, [Fajita Vegetables, Rice,...</td>\n",
       "      <td>$11.89</td>\n",
       "      <td>11.89</td>\n",
       "    </tr>\n",
       "    <tr>\n",
       "      <th>1591</th>\n",
       "      <td>644</td>\n",
       "      <td>1</td>\n",
       "      <td>Bottled Water</td>\n",
       "      <td>NaN</td>\n",
       "      <td>$1.50</td>\n",
       "      <td>1.50</td>\n",
       "    </tr>\n",
       "    <tr>\n",
       "      <th>1592</th>\n",
       "      <td>645</td>\n",
       "      <td>1</td>\n",
       "      <td>Chicken Bowl</td>\n",
       "      <td>[Fresh Tomato Salsa, [Fajita Vegetables, Rice,...</td>\n",
       "      <td>$11.25</td>\n",
       "      <td>11.25</td>\n",
       "    </tr>\n",
       "    <tr>\n",
       "      <th>1593</th>\n",
       "      <td>645</td>\n",
       "      <td>1</td>\n",
       "      <td>Chips and Tomatillo Green Chili Salsa</td>\n",
       "      <td>NaN</td>\n",
       "      <td>$2.95</td>\n",
       "      <td>2.95</td>\n",
       "    </tr>\n",
       "    <tr>\n",
       "      <th>1594</th>\n",
       "      <td>646</td>\n",
       "      <td>1</td>\n",
       "      <td>Carnitas Bowl</td>\n",
       "      <td>[Tomatillo Red Chili Salsa, [Fajita Vegetables...</td>\n",
       "      <td>$9.25</td>\n",
       "      <td>9.25</td>\n",
       "    </tr>\n",
       "    <tr>\n",
       "      <th>1595</th>\n",
       "      <td>646</td>\n",
       "      <td>1</td>\n",
       "      <td>Chicken Burrito</td>\n",
       "      <td>[Roasted Chili Corn Salsa, [Fajita Vegetables,...</td>\n",
       "      <td>$11.25</td>\n",
       "      <td>11.25</td>\n",
       "    </tr>\n",
       "    <tr>\n",
       "      <th>4621</th>\n",
       "      <td>1834</td>\n",
       "      <td>1</td>\n",
       "      <td>Chicken Salad Bowl</td>\n",
       "      <td>[Fresh Tomato Salsa, [Fajita Vegetables, Pinto...</td>\n",
       "      <td>$8.75</td>\n",
       "      <td>8.75</td>\n",
       "    </tr>\n",
       "  </tbody>\n",
       "</table>\n",
       "<p>4622 rows × 6 columns</p>\n",
       "</div>"
      ],
      "text/plain": [
       "      order_id  quantity                              item_name  \\\n",
       "3598      1443        15           Chips and Fresh Tomato Salsa   \n",
       "4152      1660        10                          Bottled Water   \n",
       "3887      1559         8                          Side of Chips   \n",
       "3599      1443         7                          Bottled Water   \n",
       "2441       970         5                          Bottled Water   \n",
       "4491      1786         4                      Canned Soft Drink   \n",
       "3602      1443         4                        Chicken Burrito   \n",
       "1425       577         4                          Bottled Water   \n",
       "4489      1786         4                    Chips and Guacamole   \n",
       "4490      1786         4                      Canned Soft Drink   \n",
       "2235       901         4                            Canned Soda   \n",
       "1880       759         4                          Bottled Water   \n",
       "1257       511         4           Chips and Fresh Tomato Salsa   \n",
       "3973      1592         4                      Canned Soft Drink   \n",
       "1254       511         4                        Chicken Burrito   \n",
       "409        178         3                           Chicken Bowl   \n",
       "917        379         3                      Canned Soft Drink   \n",
       "3601      1443         3                         Veggie Burrito   \n",
       "3603      1443         3                          Steak Burrito   \n",
       "3089      1231         3                      Canned Soft Drink   \n",
       "2823      1121         3                          Bottled Water   \n",
       "850        350         3                      Canned Soft Drink   \n",
       "3270      1309         3    Chips and Tomatillo-Red Chili Salsa   \n",
       "4186      1671         3                          Bottled Water   \n",
       "3634      1454         3                        Chicken Burrito   \n",
       "4137      1655         3                          Bottled Water   \n",
       "3636      1454         3                        Chicken Burrito   \n",
       "4098      1642         3                      Canned Soft Drink   \n",
       "818        338         3                          Bottled Water   \n",
       "3128      1247         3                      Canned Soft Drink   \n",
       "...        ...       ...                                    ...   \n",
       "1575       638         1                           Chicken Bowl   \n",
       "1574       637         1                      Canned Soft Drink   \n",
       "1573       637         1  Chips and Tomatillo Green Chili Salsa   \n",
       "1572       637         1                    Chips and Guacamole   \n",
       "1570       637         1                           Chicken Bowl   \n",
       "1596       647         1                           Chicken Bowl   \n",
       "1569       636         1                        Chicken Burrito   \n",
       "1568       636         1  Chips and Tomatillo Green Chili Salsa   \n",
       "1567       636         1                        Chicken Burrito   \n",
       "1565       635         1                        Chicken Burrito   \n",
       "1564       635         1                    Chips and Guacamole   \n",
       "1563       635         1                             Steak Bowl   \n",
       "1578       638         1                      Canned Soft Drink   \n",
       "1579       639         1                           Chicken Bowl   \n",
       "1580       639         1                                  Chips   \n",
       "1581       639         1                      Canned Soft Drink   \n",
       "1582       640         1                          Steak Burrito   \n",
       "1583       640         1  Chips and Tomatillo Green Chili Salsa   \n",
       "1584       641         1                       Barbacoa Burrito   \n",
       "1585       641         1                       Nantucket Nectar   \n",
       "1586       642         1                          Steak Burrito   \n",
       "1587       642         1                    Carnitas Soft Tacos   \n",
       "1589       643         1  Chips and Tomatillo Green Chili Salsa   \n",
       "1590       644         1                       Steak Salad Bowl   \n",
       "1591       644         1                          Bottled Water   \n",
       "1592       645         1                           Chicken Bowl   \n",
       "1593       645         1  Chips and Tomatillo Green Chili Salsa   \n",
       "1594       646         1                          Carnitas Bowl   \n",
       "1595       646         1                        Chicken Burrito   \n",
       "4621      1834         1                     Chicken Salad Bowl   \n",
       "\n",
       "                                     choice_description item_price  true_price  \n",
       "3598                                                NaN    $44.25        44.25  \n",
       "4152                                                NaN    $15.00        15.00  \n",
       "3887                                                NaN    $13.52        13.52  \n",
       "3599                                                NaN    $10.50        10.50  \n",
       "2441                                                NaN     $7.50         7.50  \n",
       "4491                                           [Sprite]     $5.00         5.00  \n",
       "3602  [Fresh Tomato Salsa, [Rice, Black Beans, Chees...    $35.00        35.00  \n",
       "1425                                                NaN     $6.00         6.00  \n",
       "4489                                                NaN    $17.80        17.80  \n",
       "4490                                             [Coke]     $5.00         5.00  \n",
       "2235                                           [Sprite]     $4.36         4.36  \n",
       "1880                                                NaN     $6.00         6.00  \n",
       "1257                                                NaN    $11.80        11.80  \n",
       "3973                                             [Coke]     $5.00         5.00  \n",
       "1254  [Fresh Tomato Salsa, [Fajita Vegetables, Rice,...    $35.00        35.00  \n",
       "409   [[Fresh Tomato Salsa (Mild), Tomatillo-Green C...    $32.94        32.94  \n",
       "917                                          [Lemonade]     $3.75         3.75  \n",
       "3601  [Fresh Tomato Salsa, [Fajita Vegetables, Rice,...    $33.75        33.75  \n",
       "3603  [Fresh Tomato Salsa, [Rice, Black Beans, Chees...    $27.75        27.75  \n",
       "3089                                        [Diet Coke]     $3.75         3.75  \n",
       "2823                                                NaN     $3.27         3.27  \n",
       "850                                            [Sprite]     $3.75         3.75  \n",
       "3270                                                NaN     $7.17         7.17  \n",
       "4186                                                NaN     $4.50         4.50  \n",
       "3634                               [Fresh Tomato Salsa]    $26.25        26.25  \n",
       "4137                                                NaN     $4.50         4.50  \n",
       "3636                         [Fresh Tomato Salsa, Rice]    $26.25        26.25  \n",
       "4098                                        [Diet Coke]     $3.75         3.75  \n",
       "818                                                 NaN     $3.27         3.27  \n",
       "3128                                        [Diet Coke]     $3.75         3.75  \n",
       "...                                                 ...        ...         ...  \n",
       "1575  [Roasted Chili Corn Salsa, [Rice, Fajita Veget...     $8.75         8.75  \n",
       "1574                                        [Diet Coke]     $1.25         1.25  \n",
       "1573                                                NaN     $2.95         2.95  \n",
       "1572                                                NaN     $4.45         4.45  \n",
       "1570  [Roasted Chili Corn Salsa, [Fajita Vegetables,...     $8.75         8.75  \n",
       "1596  [Fresh Tomato Salsa, [Rice, Fajita Vegetables,...    $11.25        11.25  \n",
       "1569  [Tomatillo Green Chili Salsa, [Rice, Pinto Bea...     $8.75         8.75  \n",
       "1568                                                NaN     $2.95         2.95  \n",
       "1567  [Tomatillo Green Chili Salsa, [Rice, Cheese, L...     $8.75         8.75  \n",
       "1565                         [Fresh Tomato Salsa, Rice]     $8.75         8.75  \n",
       "1564                                                NaN     $4.45         4.45  \n",
       "1563  [Tomatillo Green Chili Salsa, [Rice, Cheese, S...    $11.75        11.75  \n",
       "1578                                           [Sprite]     $1.25         1.25  \n",
       "1579    [Fresh Tomato Salsa, [Fajita Vegetables, Rice]]     $8.75         8.75  \n",
       "1580                                                NaN     $2.15         2.15  \n",
       "1581                                        [Diet Coke]     $1.25         1.25  \n",
       "1582  [Roasted Chili Corn Salsa, [Fajita Vegetables,...    $11.75        11.75  \n",
       "1583                                                NaN     $2.95         2.95  \n",
       "1584  [Tomatillo-Green Chili Salsa (Medium), [Rice, ...     $8.99         8.99  \n",
       "1585                                     [Peach Orange]     $3.39         3.39  \n",
       "1586  [Roasted Chili Corn Salsa, [Black Beans, Chees...     $9.25         9.25  \n",
       "1587      [Roasted Chili Corn Salsa, [Cheese, Lettuce]]     $9.25         9.25  \n",
       "1589                                                NaN     $2.95         2.95  \n",
       "1590  [Fresh Tomato Salsa, [Fajita Vegetables, Rice,...    $11.89        11.89  \n",
       "1591                                                NaN     $1.50         1.50  \n",
       "1592  [Fresh Tomato Salsa, [Fajita Vegetables, Rice,...    $11.25        11.25  \n",
       "1593                                                NaN     $2.95         2.95  \n",
       "1594  [Tomatillo Red Chili Salsa, [Fajita Vegetables...     $9.25         9.25  \n",
       "1595  [Roasted Chili Corn Salsa, [Fajita Vegetables,...    $11.25        11.25  \n",
       "4621  [Fresh Tomato Salsa, [Fajita Vegetables, Pinto...     $8.75         8.75  \n",
       "\n",
       "[4622 rows x 6 columns]"
      ]
     },
     "execution_count": 7,
     "metadata": {},
     "output_type": "execute_result"
    }
   ],
   "source": [
    "#check to see if quantity is needed in the calculation\n",
    "#it seems like the item_price is actually a calculation based on the quantity, not the actual menu price of the item\n",
    "\n",
    "file_nested_list.sort_values(by=['quantity'], ascending=False)"
   ]
  },
  {
   "cell_type": "code",
   "execution_count": 8,
   "metadata": {},
   "outputs": [
    {
     "data": {
      "text/plain": [
       "18.811428571428575"
      ]
     },
     "execution_count": 8,
     "metadata": {},
     "output_type": "execute_result"
    }
   ],
   "source": [
    "#aggregated the total value of every order\n",
    "#deduplicated the order_id column since the dataset represented separate items within each individual order on mulitple rows\n",
    "file_nested_list['true_price'].sum()/file_nested_list['order_id'].nunique()"
   ]
  },
  {
   "cell_type": "markdown",
   "metadata": {},
   "source": [
    "### Part 4: Create a list (or set) named `unique_sodas` containing all of unique sodas and soft drinks that Chipotle sells.\n",
    "\n",
    "Note: Just look for `'Canned Soda'` and `'Canned Soft Drink'`, and ignore other drinks like `'Izze'`."
   ]
  },
  {
   "cell_type": "code",
   "execution_count": 11,
   "metadata": {},
   "outputs": [],
   "source": [
    "#create a subset of the main chipotle file, with just the rows that include items named 'Canned Soda' and 'Canned Softdrink'\n",
    "#Pull the choice description (which represents the name of the drink) and deduplicate\n",
    "unique_sodas = file_nested_list[(file_nested_list['item_name']=='Canned Soda')|(file_nested_list['item_name']=='Canned Soft Drink')]['choice_description'].unique()"
   ]
  },
  {
   "cell_type": "code",
   "execution_count": 12,
   "metadata": {},
   "outputs": [
    {
     "data": {
      "text/plain": [
       "array(['[Sprite]', '[Dr. Pepper]', '[Mountain Dew]', '[Diet Dr. Pepper]',\n",
       "       '[Coca Cola]', '[Diet Coke]', '[Coke]', '[Lemonade]', '[Nestea]'],\n",
       "      dtype=object)"
      ]
     },
     "execution_count": 12,
     "metadata": {},
     "output_type": "execute_result"
    }
   ],
   "source": [
    "unique_sodas"
   ]
  },
  {
   "cell_type": "markdown",
   "metadata": {},
   "source": [
    "---\n",
    "\n",
    "## Advanced Level\n"
   ]
  },
  {
   "cell_type": "markdown",
   "metadata": {},
   "source": [
    "### Part 5: Calculate the average number of toppings per burrito.\n",
    "\n",
    "Note: Let's ignore the `quantity` column to simplify this task.\n",
    "\n",
    "Hint: Think carefully about the easiest way to count the number of toppings!\n"
   ]
  },
  {
   "cell_type": "code",
   "execution_count": 13,
   "metadata": {},
   "outputs": [],
   "source": [
    "#I ignored the quantity and assumed the salsa selection was included in the number of toppings\n",
    "#create column to classify the item name within the order, hoping it might be useful in the Bonus section\n",
    "conditions = [   \n",
    "    file_nested_list['item_name'].str.contains('Burrito', regex=True),\n",
    "    file_nested_list['item_name'].str.contains('Bowl', regex=True),\n",
    "    file_nested_list['item_name'].str.contains('Tacos', regex=True),\n",
    "    file_nested_list['item_name'].str.contains('Salad', regex=True), \n",
    "]\n",
    "\n",
    "results = [\n",
    "    'Burrito',\n",
    "    'Bowl',\n",
    "    'Tacos',\n",
    "    'Salad'\n",
    "]\n",
    "\n",
    "file_nested_list['main_meal'] = np.select(conditions, results,'Other')"
   ]
  },
  {
   "cell_type": "code",
   "execution_count": 14,
   "metadata": {},
   "outputs": [],
   "source": [
    "#created a function to count the number of toppings in the description by virtue of the commas separating the items\n",
    "def count_toppings(val):\n",
    "    item_list = [item for item in val if item == ',']\n",
    "    return len(item_list)+1"
   ]
  },
  {
   "cell_type": "code",
   "execution_count": 15,
   "metadata": {},
   "outputs": [],
   "source": [
    "#replaced the NaN values in the 'choice description' columns to make the values iterable\n",
    "file_nested_list['choice_description'].fillna(value='', inplace=True)"
   ]
  },
  {
   "cell_type": "code",
   "execution_count": 16,
   "metadata": {},
   "outputs": [],
   "source": [
    "#created a new column that applies the count_toppings function to the 'choice_description' column\n",
    "#need to recalibrate so that the item names with no toppings  or 'descriptions' - chips & salsa, sodas, etc have zero\n",
    "file_nested_list['number_toppings'] = file_nested_list['choice_description'].apply(count_toppings)"
   ]
  },
  {
   "cell_type": "code",
   "execution_count": 17,
   "metadata": {},
   "outputs": [
    {
     "data": {
      "text/plain": [
       "5.395051194539249"
      ]
     },
     "execution_count": 17,
     "metadata": {},
     "output_type": "execute_result"
    }
   ],
   "source": [
    "file_nested_list[file_nested_list['main_meal']=='Burrito']['number_toppings'].mean()"
   ]
  },
  {
   "cell_type": "markdown",
   "metadata": {},
   "source": [
    "\n",
    "### Part 6: Create a dictionary. Let the keys represent chip orders and the values represent the total number of orders.\n",
    "\n",
    "Expected output: `{'Chips and Roasted Chili-Corn Salsa': 18, ... }`\n",
    "\n",
    "Note: Please take the `quantity` column into account!\n",
    "\n",
    "Optional: Learn how to use `.defaultdict()` to simplify your code."
   ]
  },
  {
   "cell_type": "code",
   "execution_count": 18,
   "metadata": {},
   "outputs": [],
   "source": [
    "#imported defaultdict but did not use yet\n",
    "from collections import defaultdict"
   ]
  },
  {
   "cell_type": "code",
   "execution_count": 19,
   "metadata": {},
   "outputs": [],
   "source": [
    "#initially created a dataframe only showing item_names with 'Chips' in the string\n",
    "#from this subset, I pivoted by the item name and aggregated the quanity column \n",
    "chips_list = file_nested_list[file_nested_list['item_name'].str.contains('Chips', regex=True)].groupby('item_name')['quantity'].sum()"
   ]
  },
  {
   "cell_type": "code",
   "execution_count": 20,
   "metadata": {},
   "outputs": [],
   "source": [
    "#converted the subset to a dictionary\n",
    "chips_dictionary = chips_list.to_dict()"
   ]
  },
  {
   "cell_type": "code",
   "execution_count": 21,
   "metadata": {},
   "outputs": [
    {
     "data": {
      "text/plain": [
       "{'Chips': 230,\n",
       " 'Chips and Fresh Tomato Salsa': 130,\n",
       " 'Chips and Guacamole': 506,\n",
       " 'Chips and Mild Fresh Tomato Salsa': 1,\n",
       " 'Chips and Roasted Chili Corn Salsa': 23,\n",
       " 'Chips and Roasted Chili-Corn Salsa': 18,\n",
       " 'Chips and Tomatillo Green Chili Salsa': 45,\n",
       " 'Chips and Tomatillo Red Chili Salsa': 50,\n",
       " 'Chips and Tomatillo-Green Chili Salsa': 33,\n",
       " 'Chips and Tomatillo-Red Chili Salsa': 25,\n",
       " 'Side of Chips': 110}"
      ]
     },
     "execution_count": 21,
     "metadata": {},
     "output_type": "execute_result"
    }
   ],
   "source": [
    "chips_dictionary\n",
    "\n",
    "#it seems like we should re-classify some of the item names"
   ]
  },
  {
   "cell_type": "code",
   "execution_count": 22,
   "metadata": {},
   "outputs": [],
   "source": [
    "#honestly, this is what I would do in excel... almost a vlookup approach to reclassify the item names\n",
    "conditions = [\n",
    "    (file_nested_list['item_name'] =='6 Pack Soft Drink'),\n",
    "    (file_nested_list['item_name'] =='Barbacoa Bowl'),\n",
    "    (file_nested_list['item_name'] =='Barbacoa Burrito'),\n",
    "    (file_nested_list['item_name'] =='Barbacoa Crispy Tacos'),\n",
    "    (file_nested_list['item_name'] =='Barbacoa Salad Bowl'),\n",
    "    (file_nested_list['item_name'] =='Barbacoa Soft Tacos'),\n",
    "    (file_nested_list['item_name'] =='Bottled Water'),\n",
    "    (file_nested_list['item_name'] =='Bowl'),\n",
    "    (file_nested_list['item_name'] =='Burrito'),\n",
    "    (file_nested_list['item_name'] =='Canned Soda'),\n",
    "    (file_nested_list['item_name'] =='Canned Soft Drink'),\n",
    "    (file_nested_list['item_name'] =='Carnitas Bowl'),\n",
    "    (file_nested_list['item_name'] =='Carnitas Burrito'),\n",
    "    (file_nested_list['item_name'] =='Carnitas Crispy Tacos'),\n",
    "    (file_nested_list['item_name'] =='Carnitas Salad'),\n",
    "    (file_nested_list['item_name'] =='Carnitas Salad Bowl'),\n",
    "    (file_nested_list['item_name'] =='Carnitas Soft Tacos'),\n",
    "    (file_nested_list['item_name'] =='Chicken Bowl'),\n",
    "    (file_nested_list['item_name'] =='Chicken Burrito'),\n",
    "    (file_nested_list['item_name'] =='Chicken Crispy Tacos'),\n",
    "    (file_nested_list['item_name'] =='Chicken Salad'),\n",
    "    (file_nested_list['item_name'] =='Chicken Salad Bowl'),\n",
    "    (file_nested_list['item_name'] =='Chicken Soft Tacos'),\n",
    "    (file_nested_list['item_name'] =='Chips'),\n",
    "    (file_nested_list['item_name'] =='Chips and Fresh Tomato Salsa'),\n",
    "    (file_nested_list['item_name'] =='Chips and Guacamole'),\n",
    "    (file_nested_list['item_name'] =='Chips and Mild Fresh Tomato Salsa'),\n",
    "    (file_nested_list['item_name'] =='Chips and Roasted Chili Corn Salsa'),\n",
    "    (file_nested_list['item_name'] =='Chips and Roasted Chili-Corn Salsa'),\n",
    "    (file_nested_list['item_name'] =='Chips and Tomatillo Green Chili Salsa'),\n",
    "    (file_nested_list['item_name'] =='Chips and Tomatillo Red Chili Salsa'),\n",
    "    (file_nested_list['item_name'] =='Chips and Tomatillo-Green Chili Salsa'),\n",
    "    (file_nested_list['item_name'] =='Chips and Tomatillo-Red Chili Salsa'),\n",
    "    (file_nested_list['item_name'] =='Crispy Tacos'),\n",
    "    (file_nested_list['item_name'] =='Izze'),\n",
    "    (file_nested_list['item_name'] =='Nantucket Nectar'),\n",
    "    (file_nested_list['item_name'] =='Salad'),\n",
    "    (file_nested_list['item_name'] =='Side of Chips'),\n",
    "    (file_nested_list['item_name'] =='Steak Bowl'),\n",
    "    (file_nested_list['item_name'] =='Steak Burrito'),\n",
    "    (file_nested_list['item_name'] =='Steak Crispy Tacos'),\n",
    "    (file_nested_list['item_name'] =='Steak Salad'),\n",
    "    (file_nested_list['item_name'] =='Steak Salad Bowl'),\n",
    "    (file_nested_list['item_name'] =='Steak Soft Tacos'),\n",
    "    (file_nested_list['item_name'] =='Veggie Bowl'),\n",
    "    (file_nested_list['item_name'] =='Veggie Burrito'),\n",
    "    (file_nested_list['item_name'] =='Veggie Crispy Tacos'),\n",
    "    (file_nested_list['item_name'] =='Veggie Salad'),\n",
    "    (file_nested_list['item_name'] =='Veggie Salad Bowl'),\n",
    "    (file_nested_list['item_name'] =='Veggie Soft Tacos'),\n",
    "]\n",
    "\n",
    "results = [\n",
    "    '6 Pack Soft Drink',\n",
    "    'Barbacoa Bowl',\n",
    "    'Barbacoa Burrito',\n",
    "    'Barbacoa Crispy Tacos',\n",
    "    'Barbacoa Salad',\n",
    "    'Barbacoa Soft Tacos',\n",
    "    'Bottled Water',\n",
    "    'Bowl',\n",
    "    'Burrito',\n",
    "    'Canned Soft Drink',\n",
    "    'Canned Soft Drink',\n",
    "    'Carnitas Bowl',\n",
    "    'Carnitas Burrito',\n",
    "    'Carnitas Crispy Tacos',\n",
    "    'Carnitas Salad',\n",
    "    'Carnitas Salad',\n",
    "    'Carnitas Soft Tacos',\n",
    "    'Chicken Bowl',\n",
    "    'Chicken Burrito',\n",
    "    'Chicken Crispy Tacos',\n",
    "    'Chicken Salad',\n",
    "    'Chicken Salad',\n",
    "    'Chicken Soft Tacos',\n",
    "    'Side of Chips',\n",
    "    'Chips and Fresh Tomato Salsa',\n",
    "    'Chips and Guacamole',\n",
    "    'Chips and Fresh Tomato Salsa',\n",
    "    'Chips and Roasted Chili-Corn Salsa',\n",
    "    'Chips and Roasted Chili-Corn Salsa',\n",
    "    'Chips and Tomatillo-Green Chili Salsa',\n",
    "    'Chips and Tomatillo-Red Chili Salsa',\n",
    "    'Chips and Tomatillo-Green Chili Salsa',\n",
    "    'Chips and Tomatillo-Red Chili Salsa',\n",
    "    'Crispy Tacos',\n",
    "    'Izze',\n",
    "    'Nantucket Nectar',\n",
    "    'Salad',\n",
    "    'Side of Chips',\n",
    "    'Steak Bowl',\n",
    "    'Steak Burrito',\n",
    "    'Steak Crispy Tacos',\n",
    "    'Steak Salad',\n",
    "    'Steak Salad',\n",
    "    'Steak Soft Tacos',\n",
    "    'Veggie Bowl',\n",
    "    'Veggie Burrito',\n",
    "    'Veggie Crispy Tacos',\n",
    "    'Veggie Salad',\n",
    "    'Veggie Salad',\n",
    "    'Veggie Soft Tacos',\n",
    "]\n",
    "\n",
    "file_nested_list['true_item_name'] = np.select(conditions, results,'Other')"
   ]
  },
  {
   "cell_type": "code",
   "execution_count": 23,
   "metadata": {},
   "outputs": [],
   "source": [
    "chips_list_updated = file_nested_list[file_nested_list['true_item_name'].str.contains('Chips', regex=True)].groupby('true_item_name')['quantity'].sum()"
   ]
  },
  {
   "cell_type": "code",
   "execution_count": 24,
   "metadata": {},
   "outputs": [],
   "source": [
    "chips_dictionary_updated = chips_list_updated.to_dict()"
   ]
  },
  {
   "cell_type": "code",
   "execution_count": 25,
   "metadata": {},
   "outputs": [
    {
     "data": {
      "text/plain": [
       "{'Chips and Fresh Tomato Salsa': 131,\n",
       " 'Chips and Guacamole': 506,\n",
       " 'Chips and Roasted Chili-Corn Salsa': 41,\n",
       " 'Chips and Tomatillo-Green Chili Salsa': 78,\n",
       " 'Chips and Tomatillo-Red Chili Salsa': 75,\n",
       " 'Side of Chips': 340}"
      ]
     },
     "execution_count": 25,
     "metadata": {},
     "output_type": "execute_result"
    }
   ],
   "source": [
    "#new chips dictionary based on the updated item names\n",
    "#it seems like corn is not a popular option \n",
    "chips_dictionary_updated"
   ]
  },
  {
   "cell_type": "code",
   "execution_count": 26,
   "metadata": {},
   "outputs": [],
   "source": [
    "conditions = [   \n",
    "    (file_nested_list['choice_description'].str.contains('Tomatillo-Red', regex=True)),\n",
    "    (file_nested_list['choice_description'].str.contains('Tomatillo Red', regex=True)),\n",
    "    (file_nested_list['choice_description'].str.contains('Tomatillo Green', regex=True)),\n",
    "    (file_nested_list['choice_description'].str.contains('Tomatillo-Green', regex=True)),\n",
    "    (file_nested_list['choice_description'].str.contains('Fresh', regex=True)),\n",
    "    (file_nested_list['choice_description'].str.contains('Mild', regex=True)),\n",
    "    (file_nested_list['choice_description'].str.contains('Corn', regex=True))\n",
    "]\n",
    "    \n",
    "results = [\n",
    "    'Hot',\n",
    "    'Hot',\n",
    "    'Medium',\n",
    "    'Medium',\n",
    "    'Mild',\n",
    "    'Mild',\n",
    "    'Mild'\n",
    "]\n",
    "\n",
    "file_nested_list['salsa_topping_type'] = np.select(conditions, results,'Other')"
   ]
  },
  {
   "cell_type": "code",
   "execution_count": 27,
   "metadata": {},
   "outputs": [],
   "source": [
    "#for the purposes of the deeper analysis, I created a column 'item_type', based on broader menu options\n",
    "conditions = [\n",
    "    (file_nested_list['item_name'] =='6 Pack Soft Drink'),\n",
    "    (file_nested_list['item_name'] =='Barbacoa Bowl'),\n",
    "    (file_nested_list['item_name'] =='Barbacoa Burrito'),\n",
    "    (file_nested_list['item_name'] =='Barbacoa Crispy Tacos'),\n",
    "    (file_nested_list['item_name'] =='Barbacoa Salad Bowl'),\n",
    "    (file_nested_list['item_name'] =='Barbacoa Soft Tacos'),\n",
    "    (file_nested_list['item_name'] =='Bottled Water'),\n",
    "    (file_nested_list['item_name'] =='Bowl'),\n",
    "    (file_nested_list['item_name'] =='Burrito'),\n",
    "    (file_nested_list['item_name'] =='Canned Soda'),\n",
    "    (file_nested_list['item_name'] =='Canned Soft Drink'),\n",
    "    (file_nested_list['item_name'] =='Carnitas Bowl'),\n",
    "    (file_nested_list['item_name'] =='Carnitas Burrito'),\n",
    "    (file_nested_list['item_name'] =='Carnitas Crispy Tacos'),\n",
    "    (file_nested_list['item_name'] =='Carnitas Salad'),\n",
    "    (file_nested_list['item_name'] =='Carnitas Salad Bowl'),\n",
    "    (file_nested_list['item_name'] =='Carnitas Soft Tacos'),\n",
    "    (file_nested_list['item_name'] =='Chicken Bowl'),\n",
    "    (file_nested_list['item_name'] =='Chicken Burrito'),\n",
    "    (file_nested_list['item_name'] =='Chicken Crispy Tacos'),\n",
    "    (file_nested_list['item_name'] =='Chicken Salad'),\n",
    "    (file_nested_list['item_name'] =='Chicken Salad Bowl'),\n",
    "    (file_nested_list['item_name'] =='Chicken Soft Tacos'),\n",
    "    (file_nested_list['item_name'] =='Chips'),\n",
    "    (file_nested_list['item_name'] =='Chips and Fresh Tomato Salsa'),\n",
    "    (file_nested_list['item_name'] =='Chips and Guacamole'),\n",
    "    (file_nested_list['item_name'] =='Chips and Mild Fresh Tomato Salsa'),\n",
    "    (file_nested_list['item_name'] =='Chips and Roasted Chili Corn Salsa'),\n",
    "    (file_nested_list['item_name'] =='Chips and Roasted Chili-Corn Salsa'),\n",
    "    (file_nested_list['item_name'] =='Chips and Tomatillo Green Chili Salsa'),\n",
    "    (file_nested_list['item_name'] =='Chips and Tomatillo Red Chili Salsa'),\n",
    "    (file_nested_list['item_name'] =='Chips and Tomatillo-Green Chili Salsa'),\n",
    "    (file_nested_list['item_name'] =='Chips and Tomatillo-Red Chili Salsa'),\n",
    "    (file_nested_list['item_name'] =='Crispy Tacos'),\n",
    "    (file_nested_list['item_name'] =='Izze'),\n",
    "    (file_nested_list['item_name'] =='Nantucket Nectar'),\n",
    "    (file_nested_list['item_name'] =='Salad'),\n",
    "    (file_nested_list['item_name'] =='Side of Chips'),\n",
    "    (file_nested_list['item_name'] =='Steak Bowl'),\n",
    "    (file_nested_list['item_name'] =='Steak Burrito'),\n",
    "    (file_nested_list['item_name'] =='Steak Crispy Tacos'),\n",
    "    (file_nested_list['item_name'] =='Steak Salad'),\n",
    "    (file_nested_list['item_name'] =='Steak Salad Bowl'),\n",
    "    (file_nested_list['item_name'] =='Steak Soft Tacos'),\n",
    "    (file_nested_list['item_name'] =='Veggie Bowl'),\n",
    "    (file_nested_list['item_name'] =='Veggie Burrito'),\n",
    "    (file_nested_list['item_name'] =='Veggie Crispy Tacos'),\n",
    "    (file_nested_list['item_name'] =='Veggie Salad'),\n",
    "    (file_nested_list['item_name'] =='Veggie Salad Bowl'),\n",
    "    (file_nested_list['item_name'] =='Veggie Soft Tacos'),\n",
    "]\n",
    "\n",
    "results = [\n",
    "    'Drink',\n",
    "    'Bowl',\n",
    "    'Burrito',\n",
    "    'Tacos',\n",
    "    'Salad',\n",
    "    'Tacos',\n",
    "    'Drink',\n",
    "    'Bowl',\n",
    "    'Burrito',\n",
    "    'Drink',\n",
    "    'Drink',\n",
    "    'Bowl',\n",
    "    'Burrito',\n",
    "    'Tacos',\n",
    "    'Salad',\n",
    "    'Salad',\n",
    "    'Tacos',\n",
    "    'Bowl',\n",
    "    'Burrito',\n",
    "    'Tacos',\n",
    "    'Salad',\n",
    "    'Salad',\n",
    "    'Tacos',\n",
    "    'Side',\n",
    "    'Side',\n",
    "    'Side',\n",
    "    'Side',\n",
    "    'Side',\n",
    "    'Side',\n",
    "    'Side',\n",
    "    'Side',\n",
    "    'Side',\n",
    "    'Side',\n",
    "    'Tacos',\n",
    "    'Drink',\n",
    "    'Drink',\n",
    "    'Salad',\n",
    "    'Side',\n",
    "    'Bowl',\n",
    "    'Burrito',\n",
    "    'Tacos',\n",
    "    'Salad',\n",
    "    'Salad',\n",
    "    'Tacos',\n",
    "    'Bowl',\n",
    "    'Burrito',\n",
    "    'Tacos',\n",
    "    'Salad',\n",
    "    'Salad',\n",
    "    'Tacos',\n",
    "]\n",
    "\n",
    "file_nested_list['item_type'] = np.select(conditions, results,'Other')"
   ]
  },
  {
   "cell_type": "code",
   "execution_count": 28,
   "metadata": {},
   "outputs": [],
   "source": [
    "#for the purposes of the deeper analysis, I also created a column 'meat_type', based on the type meal protein. \n",
    "conditions = [\n",
    "    (file_nested_list['item_name'] =='6 Pack Soft Drink'),\n",
    "    (file_nested_list['item_name'] =='Barbacoa Bowl'),\n",
    "    (file_nested_list['item_name'] =='Barbacoa Burrito'),\n",
    "    (file_nested_list['item_name'] =='Barbacoa Crispy Tacos'),\n",
    "    (file_nested_list['item_name'] =='Barbacoa Salad Bowl'),\n",
    "    (file_nested_list['item_name'] =='Barbacoa Soft Tacos'),\n",
    "    (file_nested_list['item_name'] =='Bottled Water'),\n",
    "    (file_nested_list['item_name'] =='Bowl'),\n",
    "    (file_nested_list['item_name'] =='Burrito'),\n",
    "    (file_nested_list['item_name'] =='Canned Soda'),\n",
    "    (file_nested_list['item_name'] =='Canned Soft Drink'),\n",
    "    (file_nested_list['item_name'] =='Carnitas Bowl'),\n",
    "    (file_nested_list['item_name'] =='Carnitas Burrito'),\n",
    "    (file_nested_list['item_name'] =='Carnitas Crispy Tacos'),\n",
    "    (file_nested_list['item_name'] =='Carnitas Salad'),\n",
    "    (file_nested_list['item_name'] =='Carnitas Salad Bowl'),\n",
    "    (file_nested_list['item_name'] =='Carnitas Soft Tacos'),\n",
    "    (file_nested_list['item_name'] =='Chicken Bowl'),\n",
    "    (file_nested_list['item_name'] =='Chicken Burrito'),\n",
    "    (file_nested_list['item_name'] =='Chicken Crispy Tacos'),\n",
    "    (file_nested_list['item_name'] =='Chicken Salad'),\n",
    "    (file_nested_list['item_name'] =='Chicken Salad Bowl'),\n",
    "    (file_nested_list['item_name'] =='Chicken Soft Tacos'),\n",
    "    (file_nested_list['item_name'] =='Chips'),\n",
    "    (file_nested_list['item_name'] =='Chips and Fresh Tomato Salsa'),\n",
    "    (file_nested_list['item_name'] =='Chips and Guacamole'),\n",
    "    (file_nested_list['item_name'] =='Chips and Mild Fresh Tomato Salsa'),\n",
    "    (file_nested_list['item_name'] =='Chips and Roasted Chili Corn Salsa'),\n",
    "    (file_nested_list['item_name'] =='Chips and Roasted Chili-Corn Salsa'),\n",
    "    (file_nested_list['item_name'] =='Chips and Tomatillo Green Chili Salsa'),\n",
    "    (file_nested_list['item_name'] =='Chips and Tomatillo Red Chili Salsa'),\n",
    "    (file_nested_list['item_name'] =='Chips and Tomatillo-Green Chili Salsa'),\n",
    "    (file_nested_list['item_name'] =='Chips and Tomatillo-Red Chili Salsa'),\n",
    "    (file_nested_list['item_name'] =='Crispy Tacos'),\n",
    "    (file_nested_list['item_name'] =='Izze'),\n",
    "    (file_nested_list['item_name'] =='Nantucket Nectar'),\n",
    "    (file_nested_list['item_name'] =='Salad'),\n",
    "    (file_nested_list['item_name'] =='Side of Chips'),\n",
    "    (file_nested_list['item_name'] =='Steak Bowl'),\n",
    "    (file_nested_list['item_name'] =='Steak Burrito'),\n",
    "    (file_nested_list['item_name'] =='Steak Crispy Tacos'),\n",
    "    (file_nested_list['item_name'] =='Steak Salad'),\n",
    "    (file_nested_list['item_name'] =='Steak Salad Bowl'),\n",
    "    (file_nested_list['item_name'] =='Steak Soft Tacos'),\n",
    "    (file_nested_list['item_name'] =='Veggie Bowl'),\n",
    "    (file_nested_list['item_name'] =='Veggie Burrito'),\n",
    "    (file_nested_list['item_name'] =='Veggie Crispy Tacos'),\n",
    "    (file_nested_list['item_name'] =='Veggie Salad'),\n",
    "    (file_nested_list['item_name'] =='Veggie Salad Bowl'),\n",
    "    (file_nested_list['item_name'] =='Veggie Soft Tacos'),\n",
    "]\n",
    "\n",
    "results = [\n",
    "    'NA',\n",
    "    'Barbacoa',\n",
    "    'Barbacoa',\n",
    "    'Barbacoa',\n",
    "    'Barbacoa',\n",
    "    'Barbacoa',\n",
    "    'NA',\n",
    "    'NA',\n",
    "    'NA',\n",
    "    'NA',\n",
    "    'NA',\n",
    "    'Carnitas',\n",
    "    'Carnitas',\n",
    "    'Carnitas',\n",
    "    'Carnitas',\n",
    "    'Carnitas',\n",
    "    'Carnitas',\n",
    "    'Chicken',\n",
    "    'Chicken',\n",
    "    'Chicken',\n",
    "    'Chicken',\n",
    "    'Chicken',\n",
    "    'Chicken',\n",
    "    'NA',\n",
    "    'NA',\n",
    "    'NA',\n",
    "    'NA',\n",
    "    'NA',\n",
    "    'NA',\n",
    "    'NA',\n",
    "    'NA',\n",
    "    'NA',\n",
    "    'NA',\n",
    "    'NA',\n",
    "    'NA',\n",
    "    'NA',\n",
    "    'NA',\n",
    "    'NA',\n",
    "    'Steak',\n",
    "    'Steak',\n",
    "    'Steak',\n",
    "    'Steak',\n",
    "    'Steak',\n",
    "    'Steak',\n",
    "    'Veggie',\n",
    "    'Veggie',\n",
    "    'Veggie',\n",
    "    'Veggie',\n",
    "    'Veggie',\n",
    "    'Veggie',\n",
    "]\n",
    "\n",
    "file_nested_list['meat_type'] = np.select(conditions, results,'Other')"
   ]
  },
  {
   "cell_type": "markdown",
   "metadata": {},
   "source": [
    "---\n",
    "\n",
    "## Bonus: Craft a problem statement about this data that interests you, and then answer it!\n"
   ]
  },
  {
   "cell_type": "code",
   "execution_count": 29,
   "metadata": {
    "scrolled": true
   },
   "outputs": [
    {
     "data": {
      "text/plain": [
       "order_id\n",
       "926     205.25\n",
       "1443    160.74\n",
       "1483    139.00\n",
       "691     118.25\n",
       "1786    114.30\n",
       "205     109.90\n",
       "511     104.59\n",
       "491     102.00\n",
       "1449     95.39\n",
       "759      86.30\n",
       "Name: true_price, dtype: float64"
      ]
     },
     "execution_count": 29,
     "metadata": {},
     "output_type": "execute_result"
    }
   ],
   "source": [
    "#What are the top 10 orders by total order amount?\n",
    "file_nested_list.groupby('order_id')['true_price'].sum().sort_values(ascending=False).nlargest(10)"
   ]
  },
  {
   "cell_type": "code",
   "execution_count": 30,
   "metadata": {
    "scrolled": true
   },
   "outputs": [
    {
     "data": {
      "text/plain": [
       "23"
      ]
     },
     "execution_count": 30,
     "metadata": {},
     "output_type": "execute_result"
    }
   ],
   "source": [
    "#How many items were in the top order? \n",
    "file_nested_list[file_nested_list['order_id']==926]['quantity'].sum()"
   ]
  },
  {
   "cell_type": "code",
   "execution_count": 31,
   "metadata": {},
   "outputs": [
    {
     "data": {
      "text/plain": [
       "2.711014176663032"
      ]
     },
     "execution_count": 31,
     "metadata": {},
     "output_type": "execute_result"
    }
   ],
   "source": [
    "#On average, how many items does an order have?\n",
    "file_nested_list['quantity'].sum()/file_nested_list['order_id'].nunique()"
   ]
  },
  {
   "cell_type": "code",
   "execution_count": 32,
   "metadata": {},
   "outputs": [],
   "source": [
    "#What is the distribution of each type of menu item?\n",
    "item_type_ordered = file_nested_list[file_nested_list['item_type']!='Drink'].groupby('item_type')['quantity'].sum().sort_values(ascending=True)"
   ]
  },
  {
   "cell_type": "code",
   "execution_count": 33,
   "metadata": {},
   "outputs": [
    {
     "data": {
      "image/png": "[encoded data removed]",
      "text/plain": [
       "<Figure size 432x288 with 1 Axes>"
      ]
     },
     "metadata": {
      "needs_background": "light"
     },
     "output_type": "display_data"
    }
   ],
   "source": [
    "item_type_ordered.plot(kind='barh', width = 0.9, color = ['#FFD166', '#FFE5D9', '#FFCAD4', '#F4ACB7', '#9D8189']);\n",
    "# Create a title and determine axis names\n",
    "plt.title('Items Ordered by Meal Type');\n",
    "plt.xlabel('# Items Ordered');\n",
    "plt.ylabel('Meal Type');"
   ]
  },
  {
   "cell_type": "code",
   "execution_count": 34,
   "metadata": {},
   "outputs": [
    {
     "data": {
      "text/plain": [
       "item_type\n",
       "Bowl       5.594291\n",
       "Burrito    5.392796\n",
       "Salad      4.927461\n",
       "Tacos      4.338192\n",
       "Name: number_toppings, dtype: float64"
      ]
     },
     "execution_count": 34,
     "metadata": {},
     "output_type": "execute_result"
    }
   ],
   "source": [
    "#Which meal type has the largest number of toppings?\n",
    "file_nested_list[(file_nested_list['item_type']!='Drink')&(file_nested_list['item_type']!='Side')&(file_nested_list['meat_type']!='NA')].groupby('item_type')['number_toppings'].mean()"
   ]
  },
  {
   "cell_type": "code",
   "execution_count": 35,
   "metadata": {},
   "outputs": [],
   "source": [
    "meals_by_meat = file_nested_list[(file_nested_list['item_type']!='Drink')&(file_nested_list['item_type']!='Side')&(file_nested_list['meat_type']!='NA')]"
   ]
  },
  {
   "cell_type": "code",
   "execution_count": 36,
   "metadata": {
    "scrolled": true
   },
   "outputs": [
    {
     "data": {
      "image/png": "[encoded data removed]",
      "text/plain": [
       "<Figure size 432x288 with 1 Axes>"
      ]
     },
     "metadata": {
      "needs_background": "light"
     },
     "output_type": "display_data"
    }
   ],
   "source": [
    "#Looked at the number of main meals (bowls, salad, tacos, burritos) and the type of protein added\n",
    "meals_by_meat.groupby('meat_type')['quantity'].sum().sort_values().plot(kind='barh', width = 0.9, color = ['#FFD166', '#FFE5D9', '#FFCAD4', '#F4ACB7', '#9D8189']);\n",
    "# Create a title and determine axis names\n",
    "plt.title('Items Ordered by Protein Type');\n",
    "plt.xlabel('# Items Ordered');\n",
    "plt.ylabel('Protein Type');\n"
   ]
  },
  {
   "cell_type": "code",
   "execution_count": 37,
   "metadata": {},
   "outputs": [
    {
     "data": {
      "text/plain": [
       "meat_type\n",
       "Barbacoa    5.123153\n",
       "Carnitas    5.419890\n",
       "Chicken     5.230769\n",
       "Steak       5.309117\n",
       "Veggie      6.066038\n",
       "Name: number_toppings, dtype: float64"
      ]
     },
     "execution_count": 37,
     "metadata": {},
     "output_type": "execute_result"
    }
   ],
   "source": [
    "meals_by_meat.groupby('meat_type')['number_toppings'].mean()"
   ]
  },
  {
   "cell_type": "code",
   "execution_count": 38,
   "metadata": {},
   "outputs": [
    {
     "data": {
      "image/png": "[encoded data removed]",
      "text/plain": [
       "<Figure size 1440x360 with 4 Axes>"
      ]
     },
     "metadata": {
      "needs_background": "light"
     },
     "output_type": "display_data"
    }
   ],
   "source": [
    "protein_by_meal = sns.catplot('meat_type',\n",
    "                     col='item_type',\n",
    "                     data = meals_by_meat, kind='count', palette=\"GnBu_d\");\n"
   ]
  },
  {
   "cell_type": "code",
   "execution_count": 39,
   "metadata": {},
   "outputs": [
    {
     "data": {
      "image/png": "[encoded data removed]",
      "text/plain": [
       "<Figure size 430.25x360 with 1 Axes>"
      ]
     },
     "metadata": {
      "needs_background": "light"
     },
     "output_type": "display_data"
    }
   ],
   "source": [
    "meat_breakout = sns.catplot('meat_type',\n",
    "                     hue='item_type',\n",
    "                     data = meals_by_meat, kind='count', palette=\"GnBu_d\");\n",
    "\n",
    "meat_breakout.set(xlabel='Protein Type',ylabel='# of Items');"
   ]
  },
  {
   "cell_type": "code",
   "execution_count": 40,
   "metadata": {},
   "outputs": [],
   "source": [
    "proportion_meat = meals_by_meat.groupby(['item_type','meat_type']).sum().groupby(level=0).apply(lambda x: x/x.sum())['quantity']"
   ]
  },
  {
   "cell_type": "code",
   "execution_count": 41,
   "metadata": {},
   "outputs": [
    {
     "data": {
      "text/plain": [
       "item_type  meat_type\n",
       "Bowl       Barbacoa     0.054726\n",
       "           Carnitas     0.058872\n",
       "           Chicken      0.631012\n",
       "           Steak        0.183250\n",
       "           Veggie       0.072139\n",
       "Burrito    Barbacoa     0.074286\n",
       "           Carnitas     0.048980\n",
       "           Chicken      0.482449\n",
       "           Steak        0.315102\n",
       "           Veggie       0.079184\n",
       "Salad      Barbacoa     0.048077\n",
       "           Carnitas     0.033654\n",
       "           Chicken      0.634615\n",
       "           Steak        0.168269\n",
       "           Veggie       0.115385\n",
       "Tacos      Barbacoa     0.103933\n",
       "           Carnitas     0.134831\n",
       "           Chicken      0.477528\n",
       "           Steak        0.258427\n",
       "           Veggie       0.025281\n",
       "Name: quantity, dtype: float64"
      ]
     },
     "execution_count": 41,
     "metadata": {},
     "output_type": "execute_result"
    }
   ],
   "source": [
    "proportion_meat"
   ]
  },
  {
   "cell_type": "code",
   "execution_count": 42,
   "metadata": {},
   "outputs": [
    {
     "data": {
      "image/png": "[encoded data removed]",
      "text/plain": [
       "<Figure size 432x288 with 1 Axes>"
      ]
     },
     "metadata": {
      "needs_background": "light"
     },
     "output_type": "display_data"
    }
   ],
   "source": [
    "meals_by_meat.groupby(['item_type','meat_type']).sum().groupby(level=0).apply(lambda x: x/x.sum())['quantity'].plot(kind='barh');"
   ]
  },
  {
   "cell_type": "code",
   "execution_count": 43,
   "metadata": {},
   "outputs": [
    {
     "data": {
      "text/plain": [
       "meat_type  salsa_topping_type\n",
       "Barbacoa   Hot                   0.372549\n",
       "           Medium                0.127451\n",
       "           Mild                  0.485294\n",
       "           Other                 0.014706\n",
       "Carnitas   Hot                   0.193548\n",
       "           Medium                0.134409\n",
       "           Mild                  0.672043\n",
       "Chicken    Hot                   0.183192\n",
       "           Medium                0.111245\n",
       "           Mild                  0.700121\n",
       "           Other                 0.005441\n",
       "Steak      Hot                   0.216621\n",
       "           Medium                0.123978\n",
       "           Mild                  0.651226\n",
       "           Other                 0.008174\n",
       "Veggie     Hot                   0.188940\n",
       "           Medium                0.064516\n",
       "           Mild                  0.746544\n",
       "Name: quantity, dtype: float64"
      ]
     },
     "execution_count": 43,
     "metadata": {},
     "output_type": "execute_result"
    }
   ],
   "source": [
    "meals_by_meat.groupby(['meat_type','salsa_topping_type'])['quantity'].sum().groupby(level=0).apply(lambda x: x/x.sum())"
   ]
  },
  {
   "cell_type": "code",
   "execution_count": 44,
   "metadata": {},
   "outputs": [],
   "source": [
    "#attempting to create a stacked bar graph"
   ]
  },
  {
   "cell_type": "code",
   "execution_count": 142,
   "metadata": {},
   "outputs": [],
   "source": [
    "\n",
    "bowl_chicken = proportion_meat.loc['Bowl'].loc['Chicken']\n",
    "bowl_steak = proportion_meat.loc['Bowl'].loc['Steak']\n",
    "bowl_barbacoa = proportion_meat.loc['Bowl'].loc['Barbacoa']\n",
    "bowl_carnitas = proportion_meat.loc['Bowl'].loc['Carnitas']\n",
    "bowl_veggie = proportion_meat.loc['Bowl'].loc['Veggie']\n",
    "\n",
    "burrito_chicken = proportion_meat.loc['Burrito'].loc['Chicken']\n",
    "burrito_steak = proportion_meat.loc['Burrito'].loc['Steak']\n",
    "burrito_barbacoa = proportion_meat.loc['Burrito'].loc['Barbacoa']\n",
    "burrito_carnitas = proportion_meat.loc['Burrito'].loc['Carnitas']\n",
    "burrito_veggie = proportion_meat.loc['Burrito'].loc['Veggie']\n",
    "\n",
    "taco_chicken = proportion_meat.loc['Tacos'].loc['Chicken']\n",
    "taco_steak = proportion_meat.loc['Tacos'].loc['Steak']\n",
    "taco_barbacoa = proportion_meat.loc['Tacos'].loc['Barbacoa']\n",
    "taco_carnitas = proportion_meat.loc['Tacos'].loc['Carnitas']\n",
    "taco_veggie = proportion_meat.loc['Tacos'].loc['Veggie']"
   ]
  },
  {
   "cell_type": "code",
   "execution_count": 143,
   "metadata": {},
   "outputs": [],
   "source": [
    "bowl_list = [bowl_chicken,bowl_steak,bowl_barbacoa,bowl_carnitas,bowl_veggie]\n",
    "burrito_list = [burrito_chicken,burrito_steak,burrito_barbacoa,burrito_carnitas,burrito_veggie]\n",
    "taco_list = [taco_chicken, taco_steak, taco_barbacoa, taco_carnitas, taco_veggie]"
   ]
  }
 ],
 "metadata": {
  "anaconda-cloud": {},
  "kernelspec": {
   "display_name": "Python 3",
   "language": "python",
   "name": "python3"
  },
  "language_info": {
   "codemirror_mode": {
    "name": "ipython",
    "version": 3
   },
   "file_extension": ".py",
   "mimetype": "text/x-python",
   "name": "python",
   "nbconvert_exporter": "python",
   "pygments_lexer": "ipython3",
   "version": "3.7.3"
  }
 },
 "nbformat": 4,
 "nbformat_minor": 2
}
