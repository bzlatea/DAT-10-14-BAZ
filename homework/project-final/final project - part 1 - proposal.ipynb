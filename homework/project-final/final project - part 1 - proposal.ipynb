{
 "cells": [
  {
   "cell_type": "markdown",
   "metadata": {},
   "source": [
    "## Final Project, Part 1: *Proposal*\n",
    "   \n",
    "\n",
    "#### Dataset\n",
    "\n",
    "I worked with data on the Portuguese \"Vinho Verde\" wine and the properties of its varieties. The dataset is downloaded from the UCI Machine Learning Repository https://archive.ics.uci.edu/ml/index.php.\n",
    "\n",
    "The dataset contains physiochemical properties for the white wine variants, which are our independent variables: \n",
    "\n",
    "   - 1 - fixed acidity\n",
    "   - 2 - volatile acidity\n",
    "   - 3 - citric acid\n",
    "   - 4 - residual sugar\n",
    "   - 5 - chlorides\n",
    "   - 6 - free sulfur dioxide\n",
    "   - 7 - total sulfur dioxide\n",
    "   - 8 - density\n",
    "   - 9 - pH\n",
    "   - 10 - sulphates\n",
    "   - 11 - alcohol\n",
    "   \n",
    "The output, dependent variable, is a \"quality score\" [0 through 10] that is the median of at least three appraisals made by wine experts. \n",
    "\n",
    "#### Proposal\n",
    "\n",
    "Broadly, the purpose of the analysis is to understand what makes a good quality white wine. Specifically, I will try to predict a binary quality score based on the physiochemical properties of the wine. \n",
    "\n",
    "In terms of the independent variables, the white wine dataset is large and very clean, with no missing data and numeric variables. The scale of the independent variables varies considerably, so I will standardize the variable before building models. \n",
    "\n",
    "The output variable (quality scores) are not balanced in that there are very few 'good' wines (as defined by quality scores above 6). This could affect the performance of Logistic and Decision Tree models since they might bias towards the attributes of wines with scores lower than 7, and 'good' wines might be considered noise. \n",
    "\n",
    "In terms of other limitations, there were no additional business-oriented variables that spoke to the pricing, branding, grape type, etc.\n",
    "\n",
    "#### Citation\n",
    "\n",
    "Citation from research paper that references dataset: \n",
    "\n",
    "P. Cortez, A. Cerdeira, F. Almeida, T. Matos and J. Reis. \n",
    "  Modeling wine preferences by data mining from physicochemical properties. In Decision Support Systems, Elsevier, 47(4):547-553. ISSN: 0167-9236."
   ]
  }
 ],
 "metadata": {
  "kernelspec": {
   "display_name": "Python 3",
   "language": "python",
   "name": "python3"
  },
  "language_info": {
   "codemirror_mode": {
    "name": "ipython",
    "version": 3
   },
   "file_extension": ".py",
   "mimetype": "text/x-python",
   "name": "python",
   "nbconvert_exporter": "python",
   "pygments_lexer": "ipython3",
   "version": "3.7.3"
  }
 },
 "nbformat": 4,
 "nbformat_minor": 2
}
