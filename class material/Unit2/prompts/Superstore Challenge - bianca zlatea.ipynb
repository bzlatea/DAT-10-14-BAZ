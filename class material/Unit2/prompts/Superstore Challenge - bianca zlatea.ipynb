{
 "cells": [
  {
   "cell_type": "markdown",
   "metadata": {},
   "source": [
    "## Superstore Challenge\n",
    "\n",
    "The superstore dataset is a collection of ~10,000 anonymized transactions from an e-commerce store that occurred between the years 2014 and 2017.  \n",
    "\n",
    "Your task here is to make a 'meta' dataset that aggregates information about what individual customers have done over their lifetime of interactions with the store.  \n",
    "\n",
    "When you're done you'll have a list of each unique customer in the store (going by their name), with information like their lifetime customer value, number of orders, and their ordering behavior measured over different lags of time.  \n",
    "\n",
    "This will be a helpful exercise to re-inforce some of the concepts discussed from class 6, like grouping and date offsets."
   ]
  },
  {
   "cell_type": "code",
   "execution_count": 284,
   "metadata": {},
   "outputs": [],
   "source": [
    "import pandas as pd\n",
    "import numpy as np\n",
    "\n",
    "initial=pd.read_excel(\"/Users/bianca/Documents/GitHub/DAT-10-14/class material/Unit2/data/superstore.xls\")"
   ]
  },
  {
   "cell_type": "markdown",
   "metadata": {},
   "source": [
    "**Column 1:** Create a column that lists every customers lifetime customer value."
   ]
  },
  {
   "cell_type": "code",
   "execution_count": 285,
   "metadata": {},
   "outputs": [],
   "source": [
    "# create ltv series with customer id as the index label \n",
    "store = initial.groupby(['Customer Name','Customer ID'])['Sales'].sum().to_frame().rename({'Sales':'Lifetime Value'}, axis=1)\n"
   ]
  },
  {
   "cell_type": "markdown",
   "metadata": {},
   "source": [
    "**Column 2:** Create a column that lists the length of time each customer has been with the store.  This is defined as the number of days between when they made their first purchase and today."
   ]
  },
  {
   "cell_type": "code",
   "execution_count": 286,
   "metadata": {},
   "outputs": [],
   "source": [
    "first_purchase = initial.groupby('Customer Name')['Order Date'].min().to_frame().rename({'Order Date':'First Order Date'},axis=1)\n",
    "\n",
    "today = np.datetime64('now')\n",
    "\n",
    "store = store.merge(first_purchase, on='Customer Name', how='left')\n",
    "\n",
    "initial=initial.merge(first_purchase, on='Customer Name', how='left')"
   ]
  },
  {
   "cell_type": "code",
   "execution_count": 287,
   "metadata": {},
   "outputs": [],
   "source": [
    "store['Lifetime'] = today - store['First Order Date'] "
   ]
  },
  {
   "cell_type": "markdown",
   "metadata": {},
   "source": [
    "**Column 3:** Create a column that lists the total number of purchases for each customer."
   ]
  },
  {
   "cell_type": "code",
   "execution_count": 288,
   "metadata": {},
   "outputs": [],
   "source": [
    "total_purchases = initial.groupby('Customer Name')['Order ID'].count().to_frame().rename({'Order ID': 'Total Purchases'}, axis=1)\n",
    "\n",
    "store = store.merge(total_purchases, on='Customer Name', how='left')\n"
   ]
  },
  {
   "cell_type": "markdown",
   "metadata": {},
   "source": [
    "**Column 4:** Create a column that assigns customers to a cohort.  \n",
    "\n",
    "A customers cohort is determined by when they made their first purchase, and every year in your dataset has two cohorts:  the first half of the year and the second half.  \n",
    "\n",
    "For example, if someone made their first purchase in March of 2017, their cohort would be 2017-1, or something similar.  Someone who purchased in September of 2017 would be 2017-2, and so on."
   ]
  },
  {
   "cell_type": "code",
   "execution_count": 289,
   "metadata": {},
   "outputs": [],
   "source": [
    "store['Purchase Cohort'] = store['First Order Date'].map(lambda x: 100*x.year + x.month)\n"
   ]
  },
  {
   "cell_type": "markdown",
   "metadata": {},
   "source": [
    "**Column 5:** Create a column that lists whether or not they're a repeat customer.  This means they've made more than one order."
   ]
  },
  {
   "cell_type": "code",
   "execution_count": 290,
   "metadata": {},
   "outputs": [],
   "source": [
    "store['Repeat Customer'] = np.where(store['Total Purchases']>1, True, False)\n"
   ]
  },
  {
   "cell_type": "markdown",
   "metadata": {},
   "source": [
    "**Column 6:** We want to find out what type of customer each person is.  To do this, we want to find which value of 'Segment' occurred most frequently for every single customer.  Ie, the modal value of the 'Segment' column for each customer."
   ]
  },
  {
   "cell_type": "code",
   "execution_count": 291,
   "metadata": {},
   "outputs": [],
   "source": [
    "segment_type = initial.groupby('Customer Name')['Segment'].agg(pd.Series.mode).to_frame()\n",
    "\n",
    "store = store.merge(segment_type, on ='Customer Name')"
   ]
  },
  {
   "cell_type": "markdown",
   "metadata": {},
   "source": [
    "**Column 7:** Create a column that is the date *3 months after they made their first purchase*."
   ]
  },
  {
   "cell_type": "code",
   "execution_count": 292,
   "metadata": {},
   "outputs": [],
   "source": [
    "three_mo_offset = pd.DateOffset(months=3)\n",
    "\n",
    "#what I originally had\n",
    "#store['Three Months Later'] = store['First Order Date']+three_mo_offset\n",
    "\n",
    "initial['Three Months Later']= initial['Order Date'].min()+three_mo_offset"
   ]
  },
  {
   "cell_type": "markdown",
   "metadata": {},
   "source": [
    "**Column 8:** Make a column that represents one year after they made their first purchase.  Add this to your initial dataframe as well."
   ]
  },
  {
   "cell_type": "code",
   "execution_count": 293,
   "metadata": {},
   "outputs": [],
   "source": [
    "one_year_offset = pd.DateOffset(months=12)\n",
    "\n",
    "#store['One Year Later'] = store['First Order Date']+one_year_offset\n",
    "\n",
    "initial['One Year Later']= initial['Order Date'].min()+one_year_offset"
   ]
  },
  {
   "cell_type": "markdown",
   "metadata": {},
   "source": [
    "**Column 9:** Make a column that determines whether or not a customer made a second purchase within 90 days of their first purchase."
   ]
  },
  {
   "cell_type": "code",
   "execution_count": 294,
   "metadata": {},
   "outputs": [],
   "source": [
    "initial['Purchase Three Month'] = initial['Order Date'].between(initial['First Order Date'], initial['Three Months Later'],inclusive=False)"
   ]
  },
  {
   "cell_type": "code",
   "execution_count": 295,
   "metadata": {},
   "outputs": [],
   "source": [
    "three_month_repeat = initial.groupby('Customer Name')['Purchase Three Month'].any()\n",
    "\n",
    "store['Repeat Three Month'] = three_month_repeat"
   ]
  },
  {
   "cell_type": "markdown",
   "metadata": {},
   "source": [
    "**Column 10:** Make a column that counts how many items each customer made with in their first year of purchase."
   ]
  },
  {
   "cell_type": "code",
   "execution_count": 296,
   "metadata": {},
   "outputs": [],
   "source": [
    "initial['First Year Orders']=initial['Order Date'].between(initial['First Order Date'], initial['One Year Later'])"
   ]
  },
  {
   "cell_type": "code",
   "execution_count": 297,
   "metadata": {},
   "outputs": [],
   "source": [
    "first_year_orders = (initial.groupby(['Customer Name', 'Order ID'])['First Year Orders'].sum()>0).sum(level='Customer Name').to_frame().rename({'First Year Orders':'First Year Purchases'},axis=1)\n",
    "\n",
    "store = store.merge(first_year_orders, on='Customer Name', how='left')"
   ]
  },
  {
   "cell_type": "markdown",
   "metadata": {},
   "source": [
    "**Column 11:** Make a column that sums up the total value of sales for each customer one year after they made their purchase."
   ]
  },
  {
   "cell_type": "code",
   "execution_count": 298,
   "metadata": {},
   "outputs": [
    {
     "data": {
      "text/plain": [
       "False    782\n",
       "True      11\n",
       "Name: Repeat Three Month, dtype: int64"
      ]
     },
     "execution_count": 298,
     "metadata": {},
     "output_type": "execute_result"
    }
   ],
   "source": [
    "store['Repeat Three Month'].value_counts()"
   ]
  },
  {
   "cell_type": "markdown",
   "metadata": {},
   "source": [
    "**Hint:** For some of these columns, you'll need to break them down into a few steps.  It's okay to make  helper columns on your original dataset that make it easier for you to calculate the final result."
   ]
  },
  {
   "cell_type": "markdown",
   "metadata": {},
   "source": [
    "### Questions:\n",
    "\n",
    "Now that you've made these columns, try and answer the following questions."
   ]
  },
  {
   "cell_type": "markdown",
   "metadata": {},
   "source": [
    "**What percentage of customers make a second purchase within 3 months after their first one?  How does this differ by customer segment?**"
   ]
  },
  {
   "cell_type": "code",
   "execution_count": 299,
   "metadata": {},
   "outputs": [
    {
     "data": {
      "text/plain": [
       "0.013871374527112233"
      ]
     },
     "execution_count": 299,
     "metadata": {},
     "output_type": "execute_result"
    }
   ],
   "source": [
    "store['Repeat Three Month'].mean()"
   ]
  },
  {
   "cell_type": "code",
   "execution_count": 273,
   "metadata": {},
   "outputs": [
    {
     "data": {
      "text/plain": [
       "Segment\n",
       "Consumer       0.019560\n",
       "Corporate      0.008475\n",
       "Home Office    0.006757\n",
       "Name: Repeat Three Month, dtype: float64"
      ]
     },
     "execution_count": 273,
     "metadata": {},
     "output_type": "execute_result"
    }
   ],
   "source": [
    "store.groupby('Segment')['Repeat Three Month'].mean()"
   ]
  },
  {
   "cell_type": "markdown",
   "metadata": {},
   "source": [
    "**How Has the 3-Month Repurchasing Rate Been Changing Across Cohorts?**"
   ]
  },
  {
   "cell_type": "markdown",
   "metadata": {},
   "source": [
    "**What impact does a second order within 3 months of 1st purchase have on lifetime customer value?  Does this effect hold true for each customer segment?**"
   ]
  },
  {
   "cell_type": "markdown",
   "metadata": {},
   "source": [
    "**What's the average expected sales value for a customer one year after their first purchase? How has this changed across cohorts?**"
   ]
  },
  {
   "cell_type": "markdown",
   "metadata": {},
   "source": [
    "**How much does lifetime customer value differ across the different customer segments?**"
   ]
  }
 ],
 "metadata": {
  "kernelspec": {
   "display_name": "Python 3",
   "language": "python",
   "name": "python3"
  },
  "language_info": {
   "codemirror_mode": {
    "name": "ipython",
    "version": 3
   },
   "file_extension": ".py",
   "mimetype": "text/x-python",
   "name": "python",
   "nbconvert_exporter": "python",
   "pygments_lexer": "ipython3",
   "version": "3.7.3"
  }
 },
 "nbformat": 4,
 "nbformat_minor": 2
}
