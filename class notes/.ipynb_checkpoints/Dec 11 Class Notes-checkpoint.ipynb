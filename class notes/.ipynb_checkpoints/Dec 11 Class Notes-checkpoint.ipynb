{
 "cells": [
  {
   "cell_type": "code",
   "execution_count": 1,
   "metadata": {},
   "outputs": [],
   "source": [
    "import numpy as np\n",
    "import pandas as pd\n",
    "\n",
    "df = pd.read_csv(\"/Users/bianca/Documents/GitHub/DAT-10-14/class material/Unit3/data/housing.csv\")"
   ]
  },
  {
   "cell_type": "code",
   "execution_count": 2,
   "metadata": {},
   "outputs": [],
   "source": [
    "from sklearn.linear_model import LinearRegression"
   ]
  },
  {
   "cell_type": "code",
   "execution_count": 3,
   "metadata": {},
   "outputs": [],
   "source": [
    "from sklearn.linear_model import Lasso, Ridge"
   ]
  },
  {
   "cell_type": "code",
   "execution_count": 4,
   "metadata": {},
   "outputs": [],
   "source": [
    "X = df.iloc[:,:-1]\n",
    "y = df['PRICE']"
   ]
  },
  {
   "cell_type": "code",
   "execution_count": 13,
   "metadata": {},
   "outputs": [],
   "source": [
    "#need to standardize!\n",
    "X = (X-X.mean())/X.std()"
   ]
  },
  {
   "cell_type": "code",
   "execution_count": 14,
   "metadata": {},
   "outputs": [],
   "source": [
    "#almost always useful to either use Lasso or Ridge vs. a regular regression"
   ]
  },
  {
   "cell_type": "code",
   "execution_count": 15,
   "metadata": {},
   "outputs": [],
   "source": [
    "lasso = Lasso()"
   ]
  },
  {
   "cell_type": "code",
   "execution_count": 16,
   "metadata": {},
   "outputs": [
    {
     "data": {
      "text/plain": [
       "Lasso(alpha=1.0, copy_X=True, fit_intercept=True, max_iter=1000,\n",
       "      normalize=False, positive=False, precompute=False, random_state=None,\n",
       "      selection='cyclic', tol=0.0001, warm_start=False)"
      ]
     },
     "execution_count": 16,
     "metadata": {},
     "output_type": "execute_result"
    }
   ],
   "source": [
    "lasso.fit(X,y)"
   ]
  },
  {
   "cell_type": "code",
   "execution_count": 17,
   "metadata": {},
   "outputs": [],
   "source": [
    "#in terms of internals (coefs, etc) - lasso + ridge return similar to linreg"
   ]
  },
  {
   "cell_type": "code",
   "execution_count": 18,
   "metadata": {},
   "outputs": [
    {
     "data": {
      "text/plain": [
       "array([-0.        ,  0.        , -0.        ,  0.        , -0.        ,\n",
       "        2.71542789, -0.        , -0.        , -0.        , -0.        ,\n",
       "       -1.34428304,  0.18036988, -3.54677609])"
      ]
     },
     "execution_count": 18,
     "metadata": {},
     "output_type": "execute_result"
    }
   ],
   "source": [
    "lasso.coef_"
   ]
  },
  {
   "cell_type": "code",
   "execution_count": 12,
   "metadata": {},
   "outputs": [],
   "source": [
    "#if a coef set to zero, functionally removed from dataset (anything multiplied by zero, not important)\n",
    "#note above how some columns have '0' coefficients (typical for lasso)"
   ]
  },
  {
   "cell_type": "code",
   "execution_count": 20,
   "metadata": {},
   "outputs": [],
   "source": [
    "l1_term = np.sum(np.abs(lasso.coef_))"
   ]
  },
  {
   "cell_type": "code",
   "execution_count": 21,
   "metadata": {},
   "outputs": [
    {
     "data": {
      "text/plain": [
       "7.786856908757779"
      ]
     },
     "execution_count": 21,
     "metadata": {},
     "output_type": "execute_result"
    }
   ],
   "source": [
    "l1_term"
   ]
  },
  {
   "cell_type": "code",
   "execution_count": 22,
   "metadata": {},
   "outputs": [],
   "source": [
    "alpha = 10"
   ]
  },
  {
   "cell_type": "code",
   "execution_count": 23,
   "metadata": {},
   "outputs": [],
   "source": [
    "l1_term_2 = alpha*np.sum(np.abs(lasso.coef_))"
   ]
  },
  {
   "cell_type": "code",
   "execution_count": 24,
   "metadata": {},
   "outputs": [
    {
     "data": {
      "text/plain": [
       "77.86856908757778"
      ]
     },
     "execution_count": 24,
     "metadata": {},
     "output_type": "execute_result"
    }
   ],
   "source": [
    "l1_term_2"
   ]
  },
  {
   "cell_type": "code",
   "execution_count": 25,
   "metadata": {},
   "outputs": [],
   "source": [
    "#one little tweak can be made to alpha \n",
    "#training scores tend to be higher than test scores"
   ]
  },
  {
   "cell_type": "code",
   "execution_count": 27,
   "metadata": {},
   "outputs": [],
   "source": [
    "from sklearn.model_selection import cross_val_score"
   ]
  },
  {
   "cell_type": "code",
   "execution_count": 28,
   "metadata": {},
   "outputs": [],
   "source": [
    "alphas = np.logspace(-4,4,9)"
   ]
  },
  {
   "cell_type": "code",
   "execution_count": 33,
   "metadata": {},
   "outputs": [],
   "source": [
    "cv_scores = []\n",
    "\n",
    "for alpha in alphas:\n",
    "    lasso.set_params(alpha = alpha)\n",
    "    scores = cross_val_score(estimator = lasso, X=X, y=y, cv=10)\n",
    "    cv_scores.append((np.mean(scores), alpha))"
   ]
  },
  {
   "cell_type": "code",
   "execution_count": 34,
   "metadata": {},
   "outputs": [
    {
     "data": {
      "text/plain": [
       "[(0.20262012278999347, 0.0001),\n",
       " (0.20343535169466956, 0.001),\n",
       " (0.21144430759385185, 0.01),\n",
       " (0.2407890782467927, 0.1),\n",
       " (0.1807548507575551, 1.0),\n",
       " (-1.2860830508551744, 10.0),\n",
       " (-1.2860830508551744, 100.0),\n",
       " (-1.2860830508551744, 1000.0),\n",
       " (-1.2860830508551744, 10000.0)]"
      ]
     },
     "execution_count": 34,
     "metadata": {},
     "output_type": "execute_result"
    }
   ],
   "source": [
    "cv_scores"
   ]
  },
  {
   "cell_type": "code",
   "execution_count": 35,
   "metadata": {},
   "outputs": [
    {
     "data": {
      "text/plain": [
       "{'alpha': 10000.0,\n",
       " 'copy_X': True,\n",
       " 'fit_intercept': True,\n",
       " 'max_iter': 1000,\n",
       " 'normalize': False,\n",
       " 'positive': False,\n",
       " 'precompute': False,\n",
       " 'random_state': None,\n",
       " 'selection': 'cyclic',\n",
       " 'tol': 0.0001,\n",
       " 'warm_start': False}"
      ]
     },
     "execution_count": 35,
     "metadata": {},
     "output_type": "execute_result"
    }
   ],
   "source": [
    "lasso.get_params()"
   ]
  },
  {
   "cell_type": "code",
   "execution_count": 36,
   "metadata": {},
   "outputs": [],
   "source": [
    "# 'tol' - after evvery iteration, compares loss function from this round to previous rown"
   ]
  },
  {
   "cell_type": "code",
   "execution_count": 37,
   "metadata": {},
   "outputs": [],
   "source": [
    "from sklearn.ensemble import RandomForestRegressor"
   ]
  },
  {
   "cell_type": "code",
   "execution_count": 38,
   "metadata": {},
   "outputs": [],
   "source": [
    "rf = RandomForestRegressor()"
   ]
  },
  {
   "cell_type": "code",
   "execution_count": 49,
   "metadata": {},
   "outputs": [
    {
     "data": {
      "text/plain": [
       "RandomForestRegressor(bootstrap=True, criterion='mse', max_depth=None,\n",
       "                      max_features='auto', max_leaf_nodes=None,\n",
       "                      min_impurity_decrease=0.0, min_impurity_split=None,\n",
       "                      min_samples_leaf=1, min_samples_split=2,\n",
       "                      min_weight_fraction_leaf=0.0, n_estimators=10,\n",
       "                      n_jobs=None, oob_score=False, random_state=None,\n",
       "                      verbose=0, warm_start=False)"
      ]
     },
     "execution_count": 49,
     "metadata": {},
     "output_type": "execute_result"
    }
   ],
   "source": [
    "rf.fit(X,y)"
   ]
  },
  {
   "cell_type": "code",
   "execution_count": 40,
   "metadata": {},
   "outputs": [
    {
     "data": {
      "text/plain": [
       "array([0.0435009 , 0.0009928 , 0.00627515, 0.0010515 , 0.02077635,\n",
       "       0.44122283, 0.01395953, 0.06452823, 0.00195213, 0.01328215,\n",
       "       0.01906685, 0.01029556, 0.36309602])"
      ]
     },
     "execution_count": 40,
     "metadata": {},
     "output_type": "execute_result"
    }
   ],
   "source": [
    "rf.feature_importances_"
   ]
  },
  {
   "cell_type": "code",
   "execution_count": 41,
   "metadata": {},
   "outputs": [
    {
     "data": {
      "text/plain": [
       "1.0"
      ]
     },
     "execution_count": 41,
     "metadata": {},
     "output_type": "execute_result"
    }
   ],
   "source": [
    "np.sum(rf.feature_importances_)"
   ]
  },
  {
   "cell_type": "code",
   "execution_count": 42,
   "metadata": {},
   "outputs": [],
   "source": [
    "#according to how random forest fit dataset, the relative importance of every feature or column"
   ]
  },
  {
   "cell_type": "code",
   "execution_count": 43,
   "metadata": {},
   "outputs": [],
   "source": [
    "rf.feature_importances_"
   ]
  },
  {
   "cell_type": "code",
   "execution_count": 44,
   "metadata": {},
   "outputs": [],
   "source": [
    "#let's turn into a dataframe"
   ]
  },
  {
   "cell_type": "code",
   "execution_count": 48,
   "metadata": {},
   "outputs": [],
   "source": [
    "feats = pd.DataFrame({\n",
    "    'Features' : X.columns, \n",
    "    'Importance' : rf.feature_importances_\n",
    "}).sort_values(by='Importance', ascending = False)"
   ]
  },
  {
   "cell_type": "code",
   "execution_count": 58,
   "metadata": {},
   "outputs": [
    {
     "data": {
      "text/html": [
       "<div>\n",
       "<style scoped>\n",
       "    .dataframe tbody tr th:only-of-type {\n",
       "        vertical-align: middle;\n",
       "    }\n",
       "\n",
       "    .dataframe tbody tr th {\n",
       "        vertical-align: top;\n",
       "    }\n",
       "\n",
       "    .dataframe thead th {\n",
       "        text-align: right;\n",
       "    }\n",
       "</style>\n",
       "<table border=\"1\" class=\"dataframe\">\n",
       "  <thead>\n",
       "    <tr style=\"text-align: right;\">\n",
       "      <th></th>\n",
       "      <th>Features</th>\n",
       "      <th>Importance</th>\n",
       "    </tr>\n",
       "  </thead>\n",
       "  <tbody>\n",
       "    <tr>\n",
       "      <th>5</th>\n",
       "      <td>RM</td>\n",
       "      <td>0.441223</td>\n",
       "    </tr>\n",
       "    <tr>\n",
       "      <th>12</th>\n",
       "      <td>LSTAT</td>\n",
       "      <td>0.363096</td>\n",
       "    </tr>\n",
       "    <tr>\n",
       "      <th>7</th>\n",
       "      <td>DIS</td>\n",
       "      <td>0.064528</td>\n",
       "    </tr>\n",
       "    <tr>\n",
       "      <th>0</th>\n",
       "      <td>CRIM</td>\n",
       "      <td>0.043501</td>\n",
       "    </tr>\n",
       "    <tr>\n",
       "      <th>4</th>\n",
       "      <td>NOX</td>\n",
       "      <td>0.020776</td>\n",
       "    </tr>\n",
       "    <tr>\n",
       "      <th>10</th>\n",
       "      <td>PTRATIO</td>\n",
       "      <td>0.019067</td>\n",
       "    </tr>\n",
       "    <tr>\n",
       "      <th>6</th>\n",
       "      <td>AGE</td>\n",
       "      <td>0.013960</td>\n",
       "    </tr>\n",
       "    <tr>\n",
       "      <th>9</th>\n",
       "      <td>TAX</td>\n",
       "      <td>0.013282</td>\n",
       "    </tr>\n",
       "    <tr>\n",
       "      <th>11</th>\n",
       "      <td>B</td>\n",
       "      <td>0.010296</td>\n",
       "    </tr>\n",
       "    <tr>\n",
       "      <th>2</th>\n",
       "      <td>INDUS</td>\n",
       "      <td>0.006275</td>\n",
       "    </tr>\n",
       "    <tr>\n",
       "      <th>8</th>\n",
       "      <td>RAD</td>\n",
       "      <td>0.001952</td>\n",
       "    </tr>\n",
       "    <tr>\n",
       "      <th>3</th>\n",
       "      <td>CHAS</td>\n",
       "      <td>0.001051</td>\n",
       "    </tr>\n",
       "    <tr>\n",
       "      <th>1</th>\n",
       "      <td>ZN</td>\n",
       "      <td>0.000993</td>\n",
       "    </tr>\n",
       "  </tbody>\n",
       "</table>\n",
       "</div>"
      ],
      "text/plain": [
       "   Features  Importance\n",
       "5        RM    0.441223\n",
       "12    LSTAT    0.363096\n",
       "7       DIS    0.064528\n",
       "0      CRIM    0.043501\n",
       "4       NOX    0.020776\n",
       "10  PTRATIO    0.019067\n",
       "6       AGE    0.013960\n",
       "9       TAX    0.013282\n",
       "11        B    0.010296\n",
       "2     INDUS    0.006275\n",
       "8       RAD    0.001952\n",
       "3      CHAS    0.001051\n",
       "1        ZN    0.000993"
      ]
     },
     "execution_count": 58,
     "metadata": {},
     "output_type": "execute_result"
    }
   ],
   "source": [
    "feats"
   ]
  },
  {
   "cell_type": "code",
   "execution_count": 51,
   "metadata": {},
   "outputs": [],
   "source": [
    "#notice that the numbers are all positive "
   ]
  },
  {
   "cell_type": "code",
   "execution_count": 52,
   "metadata": {},
   "outputs": [
    {
     "data": {
      "text/plain": [
       "0.9773890528048839"
      ]
     },
     "execution_count": 52,
     "metadata": {},
     "output_type": "execute_result"
    }
   ],
   "source": [
    "rf.score(X,y)"
   ]
  },
  {
   "cell_type": "code",
   "execution_count": 53,
   "metadata": {},
   "outputs": [],
   "source": [
    "#numbers do not considered coefs but gives indication of how senstive the columns are"
   ]
  },
  {
   "cell_type": "code",
   "execution_count": 54,
   "metadata": {},
   "outputs": [],
   "source": [
    "#pearsons correlation - linear association "
   ]
  },
  {
   "cell_type": "code",
   "execution_count": 55,
   "metadata": {},
   "outputs": [],
   "source": [
    "#spearmans correlation - measures rank correlation "
   ]
  },
  {
   "cell_type": "code",
   "execution_count": 56,
   "metadata": {},
   "outputs": [],
   "source": [
    "def signmoid(x):\n",
    "    return 1/(1+np.exp(-x))"
   ]
  },
  {
   "cell_type": "code",
   "execution_count": 57,
   "metadata": {},
   "outputs": [
    {
     "data": {
      "text/plain": [
       "0.5"
      ]
     },
     "execution_count": 57,
     "metadata": {},
     "output_type": "execute_result"
    }
   ],
   "source": [
    "signmoid(0)"
   ]
  },
  {
   "cell_type": "code",
   "execution_count": 59,
   "metadata": {},
   "outputs": [],
   "source": [
    "#odds that a particular event will happen"
   ]
  },
  {
   "cell_type": "code",
   "execution_count": 60,
   "metadata": {},
   "outputs": [],
   "source": [
    "train = pd.read_csv(\"/Users/bianca/Documents/GitHub/DAT-10-14/class material/Unit3/data/titanic/train.csv\")\n",
    "test = pd.read_csv(\"/Users/bianca/Documents/GitHub/DAT-10-14/class material/Unit3/data/titanic/test.csv\")"
   ]
  },
  {
   "cell_type": "code",
   "execution_count": 63,
   "metadata": {},
   "outputs": [
    {
     "data": {
      "text/html": [
       "<div>\n",
       "<style scoped>\n",
       "    .dataframe tbody tr th:only-of-type {\n",
       "        vertical-align: middle;\n",
       "    }\n",
       "\n",
       "    .dataframe tbody tr th {\n",
       "        vertical-align: top;\n",
       "    }\n",
       "\n",
       "    .dataframe thead th {\n",
       "        text-align: right;\n",
       "    }\n",
       "</style>\n",
       "<table border=\"1\" class=\"dataframe\">\n",
       "  <thead>\n",
       "    <tr style=\"text-align: right;\">\n",
       "      <th></th>\n",
       "      <th>PassengerId</th>\n",
       "      <th>Survived</th>\n",
       "      <th>Pclass</th>\n",
       "      <th>Name</th>\n",
       "      <th>Sex</th>\n",
       "      <th>Age</th>\n",
       "      <th>SibSp</th>\n",
       "      <th>Parch</th>\n",
       "      <th>Ticket</th>\n",
       "      <th>Fare</th>\n",
       "      <th>Cabin</th>\n",
       "      <th>Embarked</th>\n",
       "    </tr>\n",
       "  </thead>\n",
       "  <tbody>\n",
       "    <tr>\n",
       "      <th>0</th>\n",
       "      <td>1</td>\n",
       "      <td>0</td>\n",
       "      <td>3</td>\n",
       "      <td>Braund, Mr. Owen Harris</td>\n",
       "      <td>male</td>\n",
       "      <td>22.0</td>\n",
       "      <td>1</td>\n",
       "      <td>0</td>\n",
       "      <td>A/5 21171</td>\n",
       "      <td>7.2500</td>\n",
       "      <td>NaN</td>\n",
       "      <td>S</td>\n",
       "    </tr>\n",
       "    <tr>\n",
       "      <th>1</th>\n",
       "      <td>2</td>\n",
       "      <td>1</td>\n",
       "      <td>1</td>\n",
       "      <td>Cumings, Mrs. John Bradley (Florence Briggs Th...</td>\n",
       "      <td>female</td>\n",
       "      <td>38.0</td>\n",
       "      <td>1</td>\n",
       "      <td>0</td>\n",
       "      <td>PC 17599</td>\n",
       "      <td>71.2833</td>\n",
       "      <td>C85</td>\n",
       "      <td>C</td>\n",
       "    </tr>\n",
       "    <tr>\n",
       "      <th>2</th>\n",
       "      <td>3</td>\n",
       "      <td>1</td>\n",
       "      <td>3</td>\n",
       "      <td>Heikkinen, Miss. Laina</td>\n",
       "      <td>female</td>\n",
       "      <td>26.0</td>\n",
       "      <td>0</td>\n",
       "      <td>0</td>\n",
       "      <td>STON/O2. 3101282</td>\n",
       "      <td>7.9250</td>\n",
       "      <td>NaN</td>\n",
       "      <td>S</td>\n",
       "    </tr>\n",
       "    <tr>\n",
       "      <th>3</th>\n",
       "      <td>4</td>\n",
       "      <td>1</td>\n",
       "      <td>1</td>\n",
       "      <td>Futrelle, Mrs. Jacques Heath (Lily May Peel)</td>\n",
       "      <td>female</td>\n",
       "      <td>35.0</td>\n",
       "      <td>1</td>\n",
       "      <td>0</td>\n",
       "      <td>113803</td>\n",
       "      <td>53.1000</td>\n",
       "      <td>C123</td>\n",
       "      <td>S</td>\n",
       "    </tr>\n",
       "    <tr>\n",
       "      <th>4</th>\n",
       "      <td>5</td>\n",
       "      <td>0</td>\n",
       "      <td>3</td>\n",
       "      <td>Allen, Mr. William Henry</td>\n",
       "      <td>male</td>\n",
       "      <td>35.0</td>\n",
       "      <td>0</td>\n",
       "      <td>0</td>\n",
       "      <td>373450</td>\n",
       "      <td>8.0500</td>\n",
       "      <td>NaN</td>\n",
       "      <td>S</td>\n",
       "    </tr>\n",
       "  </tbody>\n",
       "</table>\n",
       "</div>"
      ],
      "text/plain": [
       "   PassengerId  Survived  Pclass  \\\n",
       "0            1         0       3   \n",
       "1            2         1       1   \n",
       "2            3         1       3   \n",
       "3            4         1       1   \n",
       "4            5         0       3   \n",
       "\n",
       "                                                Name     Sex   Age  SibSp  \\\n",
       "0                            Braund, Mr. Owen Harris    male  22.0      1   \n",
       "1  Cumings, Mrs. John Bradley (Florence Briggs Th...  female  38.0      1   \n",
       "2                             Heikkinen, Miss. Laina  female  26.0      0   \n",
       "3       Futrelle, Mrs. Jacques Heath (Lily May Peel)  female  35.0      1   \n",
       "4                           Allen, Mr. William Henry    male  35.0      0   \n",
       "\n",
       "   Parch            Ticket     Fare Cabin Embarked  \n",
       "0      0         A/5 21171   7.2500   NaN        S  \n",
       "1      0          PC 17599  71.2833   C85        C  \n",
       "2      0  STON/O2. 3101282   7.9250   NaN        S  \n",
       "3      0            113803  53.1000  C123        S  \n",
       "4      0            373450   8.0500   NaN        S  "
      ]
     },
     "execution_count": 63,
     "metadata": {},
     "output_type": "execute_result"
    }
   ],
   "source": [
    "train.head()"
   ]
  },
  {
   "cell_type": "code",
   "execution_count": 67,
   "metadata": {},
   "outputs": [],
   "source": [
    "X_train = train.loc[:,['Sex','Pclass']]\n",
    "y_train = train.loc[:,'Survived']\n",
    "X_test = test.loc[:,['Sex','Pclass']]"
   ]
  },
  {
   "cell_type": "code",
   "execution_count": 68,
   "metadata": {},
   "outputs": [],
   "source": [
    "X_train = pd.get_dummies(X_train, columns=['Sex', 'Pclass'], drop_first=True)\n",
    "X_test = pd.get_dummies(X_test, columns=['Sex', 'Pclass'], drop_first=True)"
   ]
  },
  {
   "cell_type": "code",
   "execution_count": 71,
   "metadata": {},
   "outputs": [],
   "source": [
    "#drop column because wrapped in the interceptor"
   ]
  },
  {
   "cell_type": "code",
   "execution_count": 72,
   "metadata": {},
   "outputs": [],
   "source": [
    "#do it for linear models "
   ]
  },
  {
   "cell_type": "code",
   "execution_count": 73,
   "metadata": {},
   "outputs": [],
   "source": [
    "#logistic regression"
   ]
  },
  {
   "cell_type": "code",
   "execution_count": 74,
   "metadata": {},
   "outputs": [
    {
     "data": {
      "text/plain": [
       "{'C': 1.0,\n",
       " 'class_weight': None,\n",
       " 'dual': False,\n",
       " 'fit_intercept': True,\n",
       " 'intercept_scaling': 1,\n",
       " 'l1_ratio': None,\n",
       " 'max_iter': 100,\n",
       " 'multi_class': 'warn',\n",
       " 'n_jobs': None,\n",
       " 'penalty': 'l2',\n",
       " 'random_state': None,\n",
       " 'solver': 'liblinear',\n",
       " 'tol': 0.0001,\n",
       " 'verbose': 0,\n",
       " 'warm_start': False}"
      ]
     },
     "execution_count": 74,
     "metadata": {},
     "output_type": "execute_result"
    }
   ],
   "source": [
    "from sklearn.linear_model import LogisticRegression\n",
    "\n",
    "logreg = LogisticRegression(solver = 'liblinear')\n",
    "logreg.get_params()"
   ]
  },
  {
   "cell_type": "code",
   "execution_count": 75,
   "metadata": {},
   "outputs": [],
   "source": [
    "#C is the equivalent of alpha (ridge/lasso)\n",
    "#with logistic regressions, coef are much smaller "
   ]
  },
  {
   "cell_type": "code",
   "execution_count": 76,
   "metadata": {},
   "outputs": [
    {
     "data": {
      "text/plain": [
       "LogisticRegression(C=1.0, class_weight=None, dual=False, fit_intercept=True,\n",
       "                   intercept_scaling=1, l1_ratio=None, max_iter=100,\n",
       "                   multi_class='warn', n_jobs=None, penalty='l2',\n",
       "                   random_state=None, solver='liblinear', tol=0.0001, verbose=0,\n",
       "                   warm_start=False)"
      ]
     },
     "execution_count": 76,
     "metadata": {},
     "output_type": "execute_result"
    }
   ],
   "source": [
    "logreg.fit(X_train, y_train)"
   ]
  },
  {
   "cell_type": "code",
   "execution_count": 77,
   "metadata": {},
   "outputs": [
    {
     "data": {
      "text/plain": [
       "array([0, 1, 0, 0, 1, 0, 1, 0, 1, 0, 0, 0, 1, 0, 1, 1, 0, 0, 1, 1, 0, 0,\n",
       "       1, 0, 1, 0, 1, 0, 0, 0, 0, 0, 1, 1, 0, 0, 1, 1, 0, 0, 0, 0, 0, 1,\n",
       "       1, 0, 0, 0, 1, 1, 0, 0, 1, 1, 0, 0, 0, 0, 0, 1, 0, 0, 0, 1, 0, 1,\n",
       "       1, 0, 0, 1, 1, 0, 1, 0, 1, 0, 0, 1, 0, 1, 0, 0, 0, 0, 0, 0, 1, 1,\n",
       "       1, 0, 1, 0, 1, 0, 0, 0, 1, 0, 1, 0, 1, 0, 0, 0, 1, 0, 0, 0, 0, 0,\n",
       "       0, 1, 1, 1, 1, 0, 0, 1, 0, 1, 1, 0, 1, 0, 0, 1, 0, 1, 0, 0, 0, 0,\n",
       "       1, 0, 0, 0, 0, 0, 1, 0, 1, 1, 0, 0, 0, 0, 0, 0, 0, 0, 1, 0, 0, 1,\n",
       "       0, 0, 1, 1, 0, 1, 1, 0, 1, 0, 0, 1, 0, 0, 1, 1, 0, 0, 0, 0, 0, 1,\n",
       "       1, 0, 1, 1, 0, 0, 1, 0, 1, 0, 1, 0, 1, 0, 0, 0, 0, 0, 0, 0, 0, 1,\n",
       "       0, 1, 1, 0, 0, 1, 0, 0, 1, 0, 1, 0, 0, 0, 0, 1, 1, 0, 1, 0, 1, 0,\n",
       "       1, 0, 1, 0, 1, 1, 0, 1, 0, 0, 0, 1, 0, 0, 0, 0, 0, 0, 1, 1, 1, 1,\n",
       "       0, 0, 0, 0, 1, 0, 1, 1, 1, 0, 0, 0, 0, 0, 0, 0, 1, 0, 0, 0, 1, 1,\n",
       "       0, 0, 0, 0, 1, 0, 0, 0, 1, 1, 0, 1, 0, 0, 0, 0, 1, 0, 1, 1, 1, 0,\n",
       "       0, 0, 0, 0, 0, 1, 0, 0, 0, 0, 1, 0, 0, 0, 0, 0, 0, 0, 1, 1, 0, 0,\n",
       "       0, 1, 0, 0, 0, 1, 1, 1, 0, 0, 0, 0, 0, 0, 0, 0, 1, 0, 1, 0, 0, 0,\n",
       "       1, 0, 0, 1, 0, 0, 0, 0, 0, 0, 0, 0, 0, 1, 0, 1, 0, 1, 0, 1, 1, 0,\n",
       "       0, 0, 1, 0, 1, 0, 0, 1, 0, 1, 1, 0, 1, 1, 0, 1, 1, 0, 0, 1, 0, 0,\n",
       "       1, 1, 1, 0, 0, 0, 0, 0, 1, 1, 0, 1, 0, 0, 0, 0, 0, 1, 0, 0, 0, 1,\n",
       "       0, 1, 0, 0, 1, 0, 1, 0, 0, 0, 0, 0, 1, 1, 1, 1, 1, 0, 1, 0, 0, 0])"
      ]
     },
     "execution_count": 77,
     "metadata": {},
     "output_type": "execute_result"
    }
   ],
   "source": [
    "logreg.predict(X_test)"
   ]
  },
  {
   "cell_type": "code",
   "execution_count": 79,
   "metadata": {},
   "outputs": [
    {
     "data": {
      "text/plain": [
       "array([[0.89503473, 0.10496527],\n",
       "       [0.41462909, 0.58537091],\n",
       "       [0.75093089, 0.24906911],\n",
       "       [0.89503473, 0.10496527],\n",
       "       [0.41462909, 0.58537091],\n",
       "       [0.89503473, 0.10496527],\n",
       "       [0.41462909, 0.58537091],\n",
       "       [0.75093089, 0.24906911],\n",
       "       [0.41462909, 0.58537091],\n",
       "       [0.89503473, 0.10496527],\n",
       "       [0.89503473, 0.10496527],\n",
       "       [0.60521334, 0.39478666],\n",
       "       [0.11295975, 0.88704025],\n",
       "       [0.75093089, 0.24906911],\n",
       "       [0.11295975, 0.88704025],\n",
       "       [0.20028547, 0.79971453],\n",
       "       [0.75093089, 0.24906911],\n",
       "       [0.89503473, 0.10496527],\n",
       "       [0.41462909, 0.58537091],\n",
       "       [0.41462909, 0.58537091],\n",
       "       [0.60521334, 0.39478666],\n",
       "       [0.89503473, 0.10496527],\n",
       "       [0.11295975, 0.88704025],\n",
       "       [0.60521334, 0.39478666],\n",
       "       [0.11295975, 0.88704025],\n",
       "       [0.89503473, 0.10496527],\n",
       "       [0.11295975, 0.88704025],\n",
       "       [0.89503473, 0.10496527],\n",
       "       [0.60521334, 0.39478666],\n",
       "       [0.89503473, 0.10496527],\n",
       "       [0.75093089, 0.24906911],\n",
       "       [0.75093089, 0.24906911],\n",
       "       [0.41462909, 0.58537091],\n",
       "       [0.41462909, 0.58537091],\n",
       "       [0.60521334, 0.39478666],\n",
       "       [0.89503473, 0.10496527],\n",
       "       [0.41462909, 0.58537091],\n",
       "       [0.41462909, 0.58537091],\n",
       "       [0.89503473, 0.10496527],\n",
       "       [0.89503473, 0.10496527],\n",
       "       [0.89503473, 0.10496527],\n",
       "       [0.60521334, 0.39478666],\n",
       "       [0.89503473, 0.10496527],\n",
       "       [0.20028547, 0.79971453],\n",
       "       [0.11295975, 0.88704025],\n",
       "       [0.89503473, 0.10496527],\n",
       "       [0.60521334, 0.39478666],\n",
       "       [0.89503473, 0.10496527],\n",
       "       [0.11295975, 0.88704025],\n",
       "       [0.41462909, 0.58537091],\n",
       "       [0.60521334, 0.39478666],\n",
       "       [0.75093089, 0.24906911],\n",
       "       [0.20028547, 0.79971453],\n",
       "       [0.11295975, 0.88704025],\n",
       "       [0.75093089, 0.24906911],\n",
       "       [0.89503473, 0.10496527],\n",
       "       [0.89503473, 0.10496527],\n",
       "       [0.89503473, 0.10496527],\n",
       "       [0.89503473, 0.10496527],\n",
       "       [0.11295975, 0.88704025],\n",
       "       [0.89503473, 0.10496527],\n",
       "       [0.75093089, 0.24906911],\n",
       "       [0.89503473, 0.10496527],\n",
       "       [0.41462909, 0.58537091],\n",
       "       [0.60521334, 0.39478666],\n",
       "       [0.20028547, 0.79971453],\n",
       "       [0.41462909, 0.58537091],\n",
       "       [0.60521334, 0.39478666],\n",
       "       [0.60521334, 0.39478666],\n",
       "       [0.11295975, 0.88704025],\n",
       "       [0.41462909, 0.58537091],\n",
       "       [0.89503473, 0.10496527],\n",
       "       [0.41462909, 0.58537091],\n",
       "       [0.60521334, 0.39478666],\n",
       "       [0.11295975, 0.88704025],\n",
       "       [0.60521334, 0.39478666],\n",
       "       [0.89503473, 0.10496527],\n",
       "       [0.11295975, 0.88704025],\n",
       "       [0.75093089, 0.24906911],\n",
       "       [0.41462909, 0.58537091],\n",
       "       [0.89503473, 0.10496527],\n",
       "       [0.60521334, 0.39478666],\n",
       "       [0.60521334, 0.39478666],\n",
       "       [0.89503473, 0.10496527],\n",
       "       [0.75093089, 0.24906911],\n",
       "       [0.89503473, 0.10496527],\n",
       "       [0.41462909, 0.58537091],\n",
       "       [0.41462909, 0.58537091],\n",
       "       [0.41462909, 0.58537091],\n",
       "       [0.75093089, 0.24906911],\n",
       "       [0.41462909, 0.58537091],\n",
       "       [0.89503473, 0.10496527],\n",
       "       [0.11295975, 0.88704025],\n",
       "       [0.89503473, 0.10496527],\n",
       "       [0.60521334, 0.39478666],\n",
       "       [0.89503473, 0.10496527],\n",
       "       [0.11295975, 0.88704025],\n",
       "       [0.89503473, 0.10496527],\n",
       "       [0.41462909, 0.58537091],\n",
       "       [0.89503473, 0.10496527],\n",
       "       [0.11295975, 0.88704025],\n",
       "       [0.75093089, 0.24906911],\n",
       "       [0.89503473, 0.10496527],\n",
       "       [0.89503473, 0.10496527],\n",
       "       [0.41462909, 0.58537091],\n",
       "       [0.89503473, 0.10496527],\n",
       "       [0.89503473, 0.10496527],\n",
       "       [0.89503473, 0.10496527],\n",
       "       [0.89503473, 0.10496527],\n",
       "       [0.75093089, 0.24906911],\n",
       "       [0.75093089, 0.24906911],\n",
       "       [0.41462909, 0.58537091],\n",
       "       [0.11295975, 0.88704025],\n",
       "       [0.41462909, 0.58537091],\n",
       "       [0.11295975, 0.88704025],\n",
       "       [0.89503473, 0.10496527],\n",
       "       [0.89503473, 0.10496527],\n",
       "       [0.41462909, 0.58537091],\n",
       "       [0.60521334, 0.39478666],\n",
       "       [0.20028547, 0.79971453],\n",
       "       [0.20028547, 0.79971453],\n",
       "       [0.89503473, 0.10496527],\n",
       "       [0.11295975, 0.88704025],\n",
       "       [0.89503473, 0.10496527],\n",
       "       [0.89503473, 0.10496527],\n",
       "       [0.41462909, 0.58537091],\n",
       "       [0.89503473, 0.10496527],\n",
       "       [0.41462909, 0.58537091],\n",
       "       [0.75093089, 0.24906911],\n",
       "       [0.89503473, 0.10496527],\n",
       "       [0.89503473, 0.10496527],\n",
       "       [0.60521334, 0.39478666],\n",
       "       [0.41462909, 0.58537091],\n",
       "       [0.89503473, 0.10496527],\n",
       "       [0.89503473, 0.10496527],\n",
       "       [0.89503473, 0.10496527],\n",
       "       [0.89503473, 0.10496527],\n",
       "       [0.75093089, 0.24906911],\n",
       "       [0.41462909, 0.58537091],\n",
       "       [0.89503473, 0.10496527],\n",
       "       [0.41462909, 0.58537091],\n",
       "       [0.11295975, 0.88704025],\n",
       "       [0.60521334, 0.39478666],\n",
       "       [0.75093089, 0.24906911],\n",
       "       [0.60521334, 0.39478666],\n",
       "       [0.89503473, 0.10496527],\n",
       "       [0.60521334, 0.39478666],\n",
       "       [0.89503473, 0.10496527],\n",
       "       [0.60521334, 0.39478666],\n",
       "       [0.75093089, 0.24906911],\n",
       "       [0.11295975, 0.88704025],\n",
       "       [0.89503473, 0.10496527],\n",
       "       [0.89503473, 0.10496527],\n",
       "       [0.41462909, 0.58537091],\n",
       "       [0.89503473, 0.10496527],\n",
       "       [0.89503473, 0.10496527],\n",
       "       [0.11295975, 0.88704025],\n",
       "       [0.41462909, 0.58537091],\n",
       "       [0.60521334, 0.39478666],\n",
       "       [0.41462909, 0.58537091],\n",
       "       [0.41462909, 0.58537091],\n",
       "       [0.89503473, 0.10496527],\n",
       "       [0.20028547, 0.79971453],\n",
       "       [0.89503473, 0.10496527],\n",
       "       [0.75093089, 0.24906911],\n",
       "       [0.41462909, 0.58537091],\n",
       "       [0.60521334, 0.39478666],\n",
       "       [0.89503473, 0.10496527],\n",
       "       [0.11295975, 0.88704025],\n",
       "       [0.41462909, 0.58537091],\n",
       "       [0.89503473, 0.10496527],\n",
       "       [0.89503473, 0.10496527],\n",
       "       [0.89503473, 0.10496527],\n",
       "       [0.89503473, 0.10496527],\n",
       "       [0.89503473, 0.10496527],\n",
       "       [0.20028547, 0.79971453],\n",
       "       [0.20028547, 0.79971453],\n",
       "       [0.60521334, 0.39478666],\n",
       "       [0.20028547, 0.79971453],\n",
       "       [0.11295975, 0.88704025],\n",
       "       [0.75093089, 0.24906911],\n",
       "       [0.60521334, 0.39478666],\n",
       "       [0.11295975, 0.88704025],\n",
       "       [0.89503473, 0.10496527],\n",
       "       [0.11295975, 0.88704025],\n",
       "       [0.75093089, 0.24906911],\n",
       "       [0.20028547, 0.79971453],\n",
       "       [0.89503473, 0.10496527],\n",
       "       [0.41462909, 0.58537091],\n",
       "       [0.75093089, 0.24906911],\n",
       "       [0.75093089, 0.24906911],\n",
       "       [0.60521334, 0.39478666],\n",
       "       [0.89503473, 0.10496527],\n",
       "       [0.75093089, 0.24906911],\n",
       "       [0.75093089, 0.24906911],\n",
       "       [0.89503473, 0.10496527],\n",
       "       [0.60521334, 0.39478666],\n",
       "       [0.41462909, 0.58537091],\n",
       "       [0.75093089, 0.24906911],\n",
       "       [0.41462909, 0.58537091],\n",
       "       [0.41462909, 0.58537091],\n",
       "       [0.89503473, 0.10496527],\n",
       "       [0.60521334, 0.39478666],\n",
       "       [0.20028547, 0.79971453],\n",
       "       [0.75093089, 0.24906911],\n",
       "       [0.60521334, 0.39478666],\n",
       "       [0.41462909, 0.58537091],\n",
       "       [0.75093089, 0.24906911],\n",
       "       [0.11295975, 0.88704025],\n",
       "       [0.89503473, 0.10496527],\n",
       "       [0.89503473, 0.10496527],\n",
       "       [0.89503473, 0.10496527],\n",
       "       [0.75093089, 0.24906911],\n",
       "       [0.20028547, 0.79971453],\n",
       "       [0.41462909, 0.58537091],\n",
       "       [0.60521334, 0.39478666],\n",
       "       [0.41462909, 0.58537091],\n",
       "       [0.60521334, 0.39478666],\n",
       "       [0.11295975, 0.88704025],\n",
       "       [0.89503473, 0.10496527],\n",
       "       [0.20028547, 0.79971453],\n",
       "       [0.89503473, 0.10496527],\n",
       "       [0.20028547, 0.79971453],\n",
       "       [0.89503473, 0.10496527],\n",
       "       [0.11295975, 0.88704025],\n",
       "       [0.41462909, 0.58537091],\n",
       "       [0.89503473, 0.10496527],\n",
       "       [0.41462909, 0.58537091],\n",
       "       [0.89503473, 0.10496527],\n",
       "       [0.75093089, 0.24906911],\n",
       "       [0.75093089, 0.24906911],\n",
       "       [0.11295975, 0.88704025],\n",
       "       [0.89503473, 0.10496527],\n",
       "       [0.89503473, 0.10496527],\n",
       "       [0.60521334, 0.39478666],\n",
       "       [0.89503473, 0.10496527],\n",
       "       [0.60521334, 0.39478666],\n",
       "       [0.89503473, 0.10496527],\n",
       "       [0.20028547, 0.79971453],\n",
       "       [0.11295975, 0.88704025],\n",
       "       [0.11295975, 0.88704025],\n",
       "       [0.20028547, 0.79971453],\n",
       "       [0.60521334, 0.39478666],\n",
       "       [0.89503473, 0.10496527],\n",
       "       [0.89503473, 0.10496527],\n",
       "       [0.60521334, 0.39478666],\n",
       "       [0.20028547, 0.79971453],\n",
       "       [0.75093089, 0.24906911],\n",
       "       [0.20028547, 0.79971453],\n",
       "       [0.41462909, 0.58537091],\n",
       "       [0.20028547, 0.79971453],\n",
       "       [0.89503473, 0.10496527],\n",
       "       [0.60521334, 0.39478666],\n",
       "       [0.89503473, 0.10496527],\n",
       "       [0.89503473, 0.10496527],\n",
       "       [0.89503473, 0.10496527],\n",
       "       [0.89503473, 0.10496527],\n",
       "       [0.89503473, 0.10496527],\n",
       "       [0.20028547, 0.79971453],\n",
       "       [0.89503473, 0.10496527],\n",
       "       [0.89503473, 0.10496527],\n",
       "       [0.89503473, 0.10496527],\n",
       "       [0.20028547, 0.79971453],\n",
       "       [0.41462909, 0.58537091],\n",
       "       [0.75093089, 0.24906911],\n",
       "       [0.89503473, 0.10496527],\n",
       "       [0.60521334, 0.39478666],\n",
       "       [0.89503473, 0.10496527],\n",
       "       [0.41462909, 0.58537091],\n",
       "       [0.89503473, 0.10496527],\n",
       "       [0.60521334, 0.39478666],\n",
       "       [0.89503473, 0.10496527],\n",
       "       [0.11295975, 0.88704025],\n",
       "       [0.41462909, 0.58537091],\n",
       "       [0.89503473, 0.10496527],\n",
       "       [0.20028547, 0.79971453],\n",
       "       [0.75093089, 0.24906911],\n",
       "       [0.75093089, 0.24906911],\n",
       "       [0.75093089, 0.24906911],\n",
       "       [0.75093089, 0.24906911],\n",
       "       [0.41462909, 0.58537091],\n",
       "       [0.89503473, 0.10496527],\n",
       "       [0.41462909, 0.58537091],\n",
       "       [0.41462909, 0.58537091],\n",
       "       [0.41462909, 0.58537091],\n",
       "       [0.89503473, 0.10496527],\n",
       "       [0.89503473, 0.10496527],\n",
       "       [0.60521334, 0.39478666],\n",
       "       [0.89503473, 0.10496527],\n",
       "       [0.89503473, 0.10496527],\n",
       "       [0.60521334, 0.39478666],\n",
       "       [0.41462909, 0.58537091],\n",
       "       [0.89503473, 0.10496527],\n",
       "       [0.60521334, 0.39478666],\n",
       "       [0.89503473, 0.10496527],\n",
       "       [0.89503473, 0.10496527],\n",
       "       [0.20028547, 0.79971453],\n",
       "       [0.89503473, 0.10496527],\n",
       "       [0.60521334, 0.39478666],\n",
       "       [0.89503473, 0.10496527],\n",
       "       [0.89503473, 0.10496527],\n",
       "       [0.75093089, 0.24906911],\n",
       "       [0.75093089, 0.24906911],\n",
       "       [0.89503473, 0.10496527],\n",
       "       [0.41462909, 0.58537091],\n",
       "       [0.11295975, 0.88704025],\n",
       "       [0.60521334, 0.39478666],\n",
       "       [0.89503473, 0.10496527],\n",
       "       [0.60521334, 0.39478666],\n",
       "       [0.41462909, 0.58537091],\n",
       "       [0.89503473, 0.10496527],\n",
       "       [0.89503473, 0.10496527],\n",
       "       [0.89503473, 0.10496527],\n",
       "       [0.41462909, 0.58537091],\n",
       "       [0.11295975, 0.88704025],\n",
       "       [0.41462909, 0.58537091],\n",
       "       [0.60521334, 0.39478666],\n",
       "       [0.75093089, 0.24906911],\n",
       "       [0.89503473, 0.10496527],\n",
       "       [0.75093089, 0.24906911],\n",
       "       [0.89503473, 0.10496527],\n",
       "       [0.89503473, 0.10496527],\n",
       "       [0.75093089, 0.24906911],\n",
       "       [0.60521334, 0.39478666],\n",
       "       [0.11295975, 0.88704025],\n",
       "       [0.89503473, 0.10496527],\n",
       "       [0.20028547, 0.79971453],\n",
       "       [0.60521334, 0.39478666],\n",
       "       [0.75093089, 0.24906911],\n",
       "       [0.75093089, 0.24906911],\n",
       "       [0.20028547, 0.79971453],\n",
       "       [0.60521334, 0.39478666],\n",
       "       [0.89503473, 0.10496527],\n",
       "       [0.41462909, 0.58537091],\n",
       "       [0.89503473, 0.10496527],\n",
       "       [0.60521334, 0.39478666],\n",
       "       [0.75093089, 0.24906911],\n",
       "       [0.89503473, 0.10496527],\n",
       "       [0.75093089, 0.24906911],\n",
       "       [0.89503473, 0.10496527],\n",
       "       [0.75093089, 0.24906911],\n",
       "       [0.89503473, 0.10496527],\n",
       "       [0.89503473, 0.10496527],\n",
       "       [0.11295975, 0.88704025],\n",
       "       [0.89503473, 0.10496527],\n",
       "       [0.41462909, 0.58537091],\n",
       "       [0.75093089, 0.24906911],\n",
       "       [0.41462909, 0.58537091],\n",
       "       [0.75093089, 0.24906911],\n",
       "       [0.20028547, 0.79971453],\n",
       "       [0.11295975, 0.88704025],\n",
       "       [0.75093089, 0.24906911],\n",
       "       [0.75093089, 0.24906911],\n",
       "       [0.75093089, 0.24906911],\n",
       "       [0.41462909, 0.58537091],\n",
       "       [0.60521334, 0.39478666],\n",
       "       [0.11295975, 0.88704025],\n",
       "       [0.89503473, 0.10496527],\n",
       "       [0.89503473, 0.10496527],\n",
       "       [0.41462909, 0.58537091],\n",
       "       [0.89503473, 0.10496527],\n",
       "       [0.20028547, 0.79971453],\n",
       "       [0.20028547, 0.79971453],\n",
       "       [0.89503473, 0.10496527],\n",
       "       [0.11295975, 0.88704025],\n",
       "       [0.41462909, 0.58537091],\n",
       "       [0.89503473, 0.10496527],\n",
       "       [0.41462909, 0.58537091],\n",
       "       [0.11295975, 0.88704025],\n",
       "       [0.75093089, 0.24906911],\n",
       "       [0.75093089, 0.24906911],\n",
       "       [0.11295975, 0.88704025],\n",
       "       [0.60521334, 0.39478666],\n",
       "       [0.75093089, 0.24906911],\n",
       "       [0.11295975, 0.88704025],\n",
       "       [0.11295975, 0.88704025],\n",
       "       [0.41462909, 0.58537091],\n",
       "       [0.75093089, 0.24906911],\n",
       "       [0.60521334, 0.39478666],\n",
       "       [0.89503473, 0.10496527],\n",
       "       [0.89503473, 0.10496527],\n",
       "       [0.89503473, 0.10496527],\n",
       "       [0.41462909, 0.58537091],\n",
       "       [0.41462909, 0.58537091],\n",
       "       [0.75093089, 0.24906911],\n",
       "       [0.20028547, 0.79971453],\n",
       "       [0.89503473, 0.10496527],\n",
       "       [0.75093089, 0.24906911],\n",
       "       [0.89503473, 0.10496527],\n",
       "       [0.89503473, 0.10496527],\n",
       "       [0.60521334, 0.39478666],\n",
       "       [0.11295975, 0.88704025],\n",
       "       [0.89503473, 0.10496527],\n",
       "       [0.75093089, 0.24906911],\n",
       "       [0.89503473, 0.10496527],\n",
       "       [0.11295975, 0.88704025],\n",
       "       [0.89503473, 0.10496527],\n",
       "       [0.11295975, 0.88704025],\n",
       "       [0.89503473, 0.10496527],\n",
       "       [0.89503473, 0.10496527],\n",
       "       [0.11295975, 0.88704025],\n",
       "       [0.75093089, 0.24906911],\n",
       "       [0.11295975, 0.88704025],\n",
       "       [0.60521334, 0.39478666],\n",
       "       [0.60521334, 0.39478666],\n",
       "       [0.75093089, 0.24906911],\n",
       "       [0.75093089, 0.24906911],\n",
       "       [0.60521334, 0.39478666],\n",
       "       [0.41462909, 0.58537091],\n",
       "       [0.41462909, 0.58537091],\n",
       "       [0.41462909, 0.58537091],\n",
       "       [0.11295975, 0.88704025],\n",
       "       [0.41462909, 0.58537091],\n",
       "       [0.89503473, 0.10496527],\n",
       "       [0.11295975, 0.88704025],\n",
       "       [0.89503473, 0.10496527],\n",
       "       [0.89503473, 0.10496527],\n",
       "       [0.89503473, 0.10496527]])"
      ]
     },
     "execution_count": 79,
     "metadata": {},
     "output_type": "execute_result"
    }
   ],
   "source": [
    "#this is differnt than linear model\n",
    "#what it tells you... first number is chance that \"0\", second number is chance that \"1\"\n",
    "logreg.predict_proba(X_test)"
   ]
  },
  {
   "cell_type": "code",
   "execution_count": 82,
   "metadata": {},
   "outputs": [
    {
     "data": {
      "text/plain": [
       "array([0.10496527, 0.58537091, 0.24906911, 0.10496527, 0.58537091,\n",
       "       0.10496527, 0.58537091, 0.24906911, 0.58537091, 0.10496527,\n",
       "       0.10496527, 0.39478666, 0.88704025, 0.24906911, 0.88704025,\n",
       "       0.79971453, 0.24906911, 0.10496527, 0.58537091, 0.58537091,\n",
       "       0.39478666, 0.10496527, 0.88704025, 0.39478666, 0.88704025,\n",
       "       0.10496527, 0.88704025, 0.10496527, 0.39478666, 0.10496527,\n",
       "       0.24906911, 0.24906911, 0.58537091, 0.58537091, 0.39478666,\n",
       "       0.10496527, 0.58537091, 0.58537091, 0.10496527, 0.10496527,\n",
       "       0.10496527, 0.39478666, 0.10496527, 0.79971453, 0.88704025,\n",
       "       0.10496527, 0.39478666, 0.10496527, 0.88704025, 0.58537091,\n",
       "       0.39478666, 0.24906911, 0.79971453, 0.88704025, 0.24906911,\n",
       "       0.10496527, 0.10496527, 0.10496527, 0.10496527, 0.88704025,\n",
       "       0.10496527, 0.24906911, 0.10496527, 0.58537091, 0.39478666,\n",
       "       0.79971453, 0.58537091, 0.39478666, 0.39478666, 0.88704025,\n",
       "       0.58537091, 0.10496527, 0.58537091, 0.39478666, 0.88704025,\n",
       "       0.39478666, 0.10496527, 0.88704025, 0.24906911, 0.58537091,\n",
       "       0.10496527, 0.39478666, 0.39478666, 0.10496527, 0.24906911,\n",
       "       0.10496527, 0.58537091, 0.58537091, 0.58537091, 0.24906911,\n",
       "       0.58537091, 0.10496527, 0.88704025, 0.10496527, 0.39478666,\n",
       "       0.10496527, 0.88704025, 0.10496527, 0.58537091, 0.10496527,\n",
       "       0.88704025, 0.24906911, 0.10496527, 0.10496527, 0.58537091,\n",
       "       0.10496527, 0.10496527, 0.10496527, 0.10496527, 0.24906911,\n",
       "       0.24906911, 0.58537091, 0.88704025, 0.58537091, 0.88704025,\n",
       "       0.10496527, 0.10496527, 0.58537091, 0.39478666, 0.79971453,\n",
       "       0.79971453, 0.10496527, 0.88704025, 0.10496527, 0.10496527,\n",
       "       0.58537091, 0.10496527, 0.58537091, 0.24906911, 0.10496527,\n",
       "       0.10496527, 0.39478666, 0.58537091, 0.10496527, 0.10496527,\n",
       "       0.10496527, 0.10496527, 0.24906911, 0.58537091, 0.10496527,\n",
       "       0.58537091, 0.88704025, 0.39478666, 0.24906911, 0.39478666,\n",
       "       0.10496527, 0.39478666, 0.10496527, 0.39478666, 0.24906911,\n",
       "       0.88704025, 0.10496527, 0.10496527, 0.58537091, 0.10496527,\n",
       "       0.10496527, 0.88704025, 0.58537091, 0.39478666, 0.58537091,\n",
       "       0.58537091, 0.10496527, 0.79971453, 0.10496527, 0.24906911,\n",
       "       0.58537091, 0.39478666, 0.10496527, 0.88704025, 0.58537091,\n",
       "       0.10496527, 0.10496527, 0.10496527, 0.10496527, 0.10496527,\n",
       "       0.79971453, 0.79971453, 0.39478666, 0.79971453, 0.88704025,\n",
       "       0.24906911, 0.39478666, 0.88704025, 0.10496527, 0.88704025,\n",
       "       0.24906911, 0.79971453, 0.10496527, 0.58537091, 0.24906911,\n",
       "       0.24906911, 0.39478666, 0.10496527, 0.24906911, 0.24906911,\n",
       "       0.10496527, 0.39478666, 0.58537091, 0.24906911, 0.58537091,\n",
       "       0.58537091, 0.10496527, 0.39478666, 0.79971453, 0.24906911,\n",
       "       0.39478666, 0.58537091, 0.24906911, 0.88704025, 0.10496527,\n",
       "       0.10496527, 0.10496527, 0.24906911, 0.79971453, 0.58537091,\n",
       "       0.39478666, 0.58537091, 0.39478666, 0.88704025, 0.10496527,\n",
       "       0.79971453, 0.10496527, 0.79971453, 0.10496527, 0.88704025,\n",
       "       0.58537091, 0.10496527, 0.58537091, 0.10496527, 0.24906911,\n",
       "       0.24906911, 0.88704025, 0.10496527, 0.10496527, 0.39478666,\n",
       "       0.10496527, 0.39478666, 0.10496527, 0.79971453, 0.88704025,\n",
       "       0.88704025, 0.79971453, 0.39478666, 0.10496527, 0.10496527,\n",
       "       0.39478666, 0.79971453, 0.24906911, 0.79971453, 0.58537091,\n",
       "       0.79971453, 0.10496527, 0.39478666, 0.10496527, 0.10496527,\n",
       "       0.10496527, 0.10496527, 0.10496527, 0.79971453, 0.10496527,\n",
       "       0.10496527, 0.10496527, 0.79971453, 0.58537091, 0.24906911,\n",
       "       0.10496527, 0.39478666, 0.10496527, 0.58537091, 0.10496527,\n",
       "       0.39478666, 0.10496527, 0.88704025, 0.58537091, 0.10496527,\n",
       "       0.79971453, 0.24906911, 0.24906911, 0.24906911, 0.24906911,\n",
       "       0.58537091, 0.10496527, 0.58537091, 0.58537091, 0.58537091,\n",
       "       0.10496527, 0.10496527, 0.39478666, 0.10496527, 0.10496527,\n",
       "       0.39478666, 0.58537091, 0.10496527, 0.39478666, 0.10496527,\n",
       "       0.10496527, 0.79971453, 0.10496527, 0.39478666, 0.10496527,\n",
       "       0.10496527, 0.24906911, 0.24906911, 0.10496527, 0.58537091,\n",
       "       0.88704025, 0.39478666, 0.10496527, 0.39478666, 0.58537091,\n",
       "       0.10496527, 0.10496527, 0.10496527, 0.58537091, 0.88704025,\n",
       "       0.58537091, 0.39478666, 0.24906911, 0.10496527, 0.24906911,\n",
       "       0.10496527, 0.10496527, 0.24906911, 0.39478666, 0.88704025,\n",
       "       0.10496527, 0.79971453, 0.39478666, 0.24906911, 0.24906911,\n",
       "       0.79971453, 0.39478666, 0.10496527, 0.58537091, 0.10496527,\n",
       "       0.39478666, 0.24906911, 0.10496527, 0.24906911, 0.10496527,\n",
       "       0.24906911, 0.10496527, 0.10496527, 0.88704025, 0.10496527,\n",
       "       0.58537091, 0.24906911, 0.58537091, 0.24906911, 0.79971453,\n",
       "       0.88704025, 0.24906911, 0.24906911, 0.24906911, 0.58537091,\n",
       "       0.39478666, 0.88704025, 0.10496527, 0.10496527, 0.58537091,\n",
       "       0.10496527, 0.79971453, 0.79971453, 0.10496527, 0.88704025,\n",
       "       0.58537091, 0.10496527, 0.58537091, 0.88704025, 0.24906911,\n",
       "       0.24906911, 0.88704025, 0.39478666, 0.24906911, 0.88704025,\n",
       "       0.88704025, 0.58537091, 0.24906911, 0.39478666, 0.10496527,\n",
       "       0.10496527, 0.10496527, 0.58537091, 0.58537091, 0.24906911,\n",
       "       0.79971453, 0.10496527, 0.24906911, 0.10496527, 0.10496527,\n",
       "       0.39478666, 0.88704025, 0.10496527, 0.24906911, 0.10496527,\n",
       "       0.88704025, 0.10496527, 0.88704025, 0.10496527, 0.10496527,\n",
       "       0.88704025, 0.24906911, 0.88704025, 0.39478666, 0.39478666,\n",
       "       0.24906911, 0.24906911, 0.39478666, 0.58537091, 0.58537091,\n",
       "       0.58537091, 0.88704025, 0.58537091, 0.10496527, 0.88704025,\n",
       "       0.10496527, 0.10496527, 0.10496527])"
      ]
     },
     "execution_count": 82,
     "metadata": {},
     "output_type": "execute_result"
    }
   ],
   "source": [
    "logreg.predict_proba(X_test)[:,1]"
   ]
  },
  {
   "cell_type": "code",
   "execution_count": 84,
   "metadata": {},
   "outputs": [
    {
     "data": {
      "text/plain": [
       "array([2.06085883])"
      ]
     },
     "execution_count": 84,
     "metadata": {},
     "output_type": "execute_result"
    }
   ],
   "source": [
    "logreg.intercept_"
   ]
  },
  {
   "cell_type": "code",
   "execution_count": 85,
   "metadata": {},
   "outputs": [
    {
     "data": {
      "text/plain": [
       "array([[-2.48809433, -0.67634771, -1.7159975 ]])"
      ]
     },
     "execution_count": 85,
     "metadata": {},
     "output_type": "execute_result"
    }
   ],
   "source": [
    "logreg.coef_"
   ]
  },
  {
   "cell_type": "code",
   "execution_count": 86,
   "metadata": {},
   "outputs": [],
   "source": [
    "coeffs = pd.DataFrame({\n",
    "    'Variable':X_train.columns,\n",
    "    'Weight':logreg.coef_[0]\n",
    "})"
   ]
  },
  {
   "cell_type": "code",
   "execution_count": 87,
   "metadata": {},
   "outputs": [
    {
     "data": {
      "text/html": [
       "<div>\n",
       "<style scoped>\n",
       "    .dataframe tbody tr th:only-of-type {\n",
       "        vertical-align: middle;\n",
       "    }\n",
       "\n",
       "    .dataframe tbody tr th {\n",
       "        vertical-align: top;\n",
       "    }\n",
       "\n",
       "    .dataframe thead th {\n",
       "        text-align: right;\n",
       "    }\n",
       "</style>\n",
       "<table border=\"1\" class=\"dataframe\">\n",
       "  <thead>\n",
       "    <tr style=\"text-align: right;\">\n",
       "      <th></th>\n",
       "      <th>Variable</th>\n",
       "      <th>Weight</th>\n",
       "    </tr>\n",
       "  </thead>\n",
       "  <tbody>\n",
       "    <tr>\n",
       "      <th>0</th>\n",
       "      <td>Sex_male</td>\n",
       "      <td>-2.488094</td>\n",
       "    </tr>\n",
       "    <tr>\n",
       "      <th>1</th>\n",
       "      <td>Pclass_2</td>\n",
       "      <td>-0.676348</td>\n",
       "    </tr>\n",
       "    <tr>\n",
       "      <th>2</th>\n",
       "      <td>Pclass_3</td>\n",
       "      <td>-1.715997</td>\n",
       "    </tr>\n",
       "  </tbody>\n",
       "</table>\n",
       "</div>"
      ],
      "text/plain": [
       "   Variable    Weight\n",
       "0  Sex_male -2.488094\n",
       "1  Pclass_2 -0.676348\n",
       "2  Pclass_3 -1.715997"
      ]
     },
     "execution_count": 87,
     "metadata": {},
     "output_type": "execute_result"
    }
   ],
   "source": [
    "coeffs"
   ]
  },
  {
   "cell_type": "code",
   "execution_count": 88,
   "metadata": {},
   "outputs": [],
   "source": [
    "output = X_train.dot(logreg.coef_.T) + logreg.intercept_"
   ]
  },
  {
   "cell_type": "code",
   "execution_count": 90,
   "metadata": {},
   "outputs": [
    {
     "data": {
      "text/html": [
       "<div>\n",
       "<style scoped>\n",
       "    .dataframe tbody tr th:only-of-type {\n",
       "        vertical-align: middle;\n",
       "    }\n",
       "\n",
       "    .dataframe tbody tr th {\n",
       "        vertical-align: top;\n",
       "    }\n",
       "\n",
       "    .dataframe thead th {\n",
       "        text-align: right;\n",
       "    }\n",
       "</style>\n",
       "<table border=\"1\" class=\"dataframe\">\n",
       "  <thead>\n",
       "    <tr style=\"text-align: right;\">\n",
       "      <th></th>\n",
       "      <th>0</th>\n",
       "    </tr>\n",
       "  </thead>\n",
       "  <tbody>\n",
       "    <tr>\n",
       "      <th>0</th>\n",
       "      <td>-2.143233</td>\n",
       "    </tr>\n",
       "    <tr>\n",
       "      <th>1</th>\n",
       "      <td>2.060859</td>\n",
       "    </tr>\n",
       "    <tr>\n",
       "      <th>2</th>\n",
       "      <td>0.344861</td>\n",
       "    </tr>\n",
       "    <tr>\n",
       "      <th>3</th>\n",
       "      <td>2.060859</td>\n",
       "    </tr>\n",
       "    <tr>\n",
       "      <th>4</th>\n",
       "      <td>-2.143233</td>\n",
       "    </tr>\n",
       "  </tbody>\n",
       "</table>\n",
       "</div>"
      ],
      "text/plain": [
       "          0\n",
       "0 -2.143233\n",
       "1  2.060859\n",
       "2  0.344861\n",
       "3  2.060859\n",
       "4 -2.143233"
      ]
     },
     "execution_count": 90,
     "metadata": {},
     "output_type": "execute_result"
    }
   ],
   "source": [
    "#output is Y before going through the sigmoid function\n",
    "output.head()"
   ]
  },
  {
   "cell_type": "code",
   "execution_count": 92,
   "metadata": {},
   "outputs": [
    {
     "data": {
      "text/plain": [
       "0.10496526891511966"
      ]
     },
     "execution_count": 92,
     "metadata": {},
     "output_type": "execute_result"
    }
   ],
   "source": [
    "#then take the Y predictions and get the sigmoid (predicted probability)\n",
    "signmoid(-2.143233)"
   ]
  },
  {
   "cell_type": "code",
   "execution_count": 93,
   "metadata": {},
   "outputs": [],
   "source": [
    "from sklearn.ensemble import RandomForestClassifier"
   ]
  },
  {
   "cell_type": "code",
   "execution_count": 94,
   "metadata": {},
   "outputs": [],
   "source": [
    "rf = RandomForestClassifier()"
   ]
  },
  {
   "cell_type": "code",
   "execution_count": 95,
   "metadata": {},
   "outputs": [
    {
     "name": "stderr",
     "output_type": "stream",
     "text": [
      "//anaconda3/lib/python3.7/site-packages/sklearn/ensemble/forest.py:245: FutureWarning: The default value of n_estimators will change from 10 in version 0.20 to 100 in 0.22.\n",
      "  \"10 in version 0.20 to 100 in 0.22.\", FutureWarning)\n"
     ]
    },
    {
     "data": {
      "text/plain": [
       "RandomForestClassifier(bootstrap=True, class_weight=None, criterion='gini',\n",
       "                       max_depth=None, max_features='auto', max_leaf_nodes=None,\n",
       "                       min_impurity_decrease=0.0, min_impurity_split=None,\n",
       "                       min_samples_leaf=1, min_samples_split=2,\n",
       "                       min_weight_fraction_leaf=0.0, n_estimators=10,\n",
       "                       n_jobs=None, oob_score=False, random_state=None,\n",
       "                       verbose=0, warm_start=False)"
      ]
     },
     "execution_count": 95,
     "metadata": {},
     "output_type": "execute_result"
    }
   ],
   "source": [
    "rf.fit(X_train,y_train)"
   ]
  },
  {
   "cell_type": "code",
   "execution_count": 96,
   "metadata": {},
   "outputs": [
    {
     "data": {
      "text/plain": [
       "array([0.71777034, 0.02615389, 0.25607577])"
      ]
     },
     "execution_count": 96,
     "metadata": {},
     "output_type": "execute_result"
    }
   ],
   "source": [
    "rf.feature_importances_"
   ]
  },
  {
   "cell_type": "code",
   "execution_count": 97,
   "metadata": {},
   "outputs": [
    {
     "data": {
      "text/plain": [
       "array([[0.8707089 , 0.1292911 ],\n",
       "       [0.51065891, 0.48934109],\n",
       "       [0.83826195, 0.16173805],\n",
       "       [0.8707089 , 0.1292911 ],\n",
       "       [0.51065891, 0.48934109],\n",
       "       [0.8707089 , 0.1292911 ],\n",
       "       [0.51065891, 0.48934109],\n",
       "       [0.83826195, 0.16173805],\n",
       "       [0.51065891, 0.48934109],\n",
       "       [0.8707089 , 0.1292911 ],\n",
       "       [0.8707089 , 0.1292911 ],\n",
       "       [0.61429765, 0.38570235],\n",
       "       [0.03504741, 0.96495259],\n",
       "       [0.83826195, 0.16173805],\n",
       "       [0.03504741, 0.96495259],\n",
       "       [0.07324683, 0.92675317],\n",
       "       [0.83826195, 0.16173805],\n",
       "       [0.8707089 , 0.1292911 ],\n",
       "       [0.51065891, 0.48934109],\n",
       "       [0.51065891, 0.48934109],\n",
       "       [0.61429765, 0.38570235],\n",
       "       [0.8707089 , 0.1292911 ],\n",
       "       [0.03504741, 0.96495259],\n",
       "       [0.61429765, 0.38570235],\n",
       "       [0.03504741, 0.96495259],\n",
       "       [0.8707089 , 0.1292911 ],\n",
       "       [0.03504741, 0.96495259],\n",
       "       [0.8707089 , 0.1292911 ],\n",
       "       [0.61429765, 0.38570235],\n",
       "       [0.8707089 , 0.1292911 ],\n",
       "       [0.83826195, 0.16173805],\n",
       "       [0.83826195, 0.16173805],\n",
       "       [0.51065891, 0.48934109],\n",
       "       [0.51065891, 0.48934109],\n",
       "       [0.61429765, 0.38570235],\n",
       "       [0.8707089 , 0.1292911 ],\n",
       "       [0.51065891, 0.48934109],\n",
       "       [0.51065891, 0.48934109],\n",
       "       [0.8707089 , 0.1292911 ],\n",
       "       [0.8707089 , 0.1292911 ],\n",
       "       [0.8707089 , 0.1292911 ],\n",
       "       [0.61429765, 0.38570235],\n",
       "       [0.8707089 , 0.1292911 ],\n",
       "       [0.07324683, 0.92675317],\n",
       "       [0.03504741, 0.96495259],\n",
       "       [0.8707089 , 0.1292911 ],\n",
       "       [0.61429765, 0.38570235],\n",
       "       [0.8707089 , 0.1292911 ],\n",
       "       [0.03504741, 0.96495259],\n",
       "       [0.51065891, 0.48934109],\n",
       "       [0.61429765, 0.38570235],\n",
       "       [0.83826195, 0.16173805],\n",
       "       [0.07324683, 0.92675317],\n",
       "       [0.03504741, 0.96495259],\n",
       "       [0.83826195, 0.16173805],\n",
       "       [0.8707089 , 0.1292911 ],\n",
       "       [0.8707089 , 0.1292911 ],\n",
       "       [0.8707089 , 0.1292911 ],\n",
       "       [0.8707089 , 0.1292911 ],\n",
       "       [0.03504741, 0.96495259],\n",
       "       [0.8707089 , 0.1292911 ],\n",
       "       [0.83826195, 0.16173805],\n",
       "       [0.8707089 , 0.1292911 ],\n",
       "       [0.51065891, 0.48934109],\n",
       "       [0.61429765, 0.38570235],\n",
       "       [0.07324683, 0.92675317],\n",
       "       [0.51065891, 0.48934109],\n",
       "       [0.61429765, 0.38570235],\n",
       "       [0.61429765, 0.38570235],\n",
       "       [0.03504741, 0.96495259],\n",
       "       [0.51065891, 0.48934109],\n",
       "       [0.8707089 , 0.1292911 ],\n",
       "       [0.51065891, 0.48934109],\n",
       "       [0.61429765, 0.38570235],\n",
       "       [0.03504741, 0.96495259],\n",
       "       [0.61429765, 0.38570235],\n",
       "       [0.8707089 , 0.1292911 ],\n",
       "       [0.03504741, 0.96495259],\n",
       "       [0.83826195, 0.16173805],\n",
       "       [0.51065891, 0.48934109],\n",
       "       [0.8707089 , 0.1292911 ],\n",
       "       [0.61429765, 0.38570235],\n",
       "       [0.61429765, 0.38570235],\n",
       "       [0.8707089 , 0.1292911 ],\n",
       "       [0.83826195, 0.16173805],\n",
       "       [0.8707089 , 0.1292911 ],\n",
       "       [0.51065891, 0.48934109],\n",
       "       [0.51065891, 0.48934109],\n",
       "       [0.51065891, 0.48934109],\n",
       "       [0.83826195, 0.16173805],\n",
       "       [0.51065891, 0.48934109],\n",
       "       [0.8707089 , 0.1292911 ],\n",
       "       [0.03504741, 0.96495259],\n",
       "       [0.8707089 , 0.1292911 ],\n",
       "       [0.61429765, 0.38570235],\n",
       "       [0.8707089 , 0.1292911 ],\n",
       "       [0.03504741, 0.96495259],\n",
       "       [0.8707089 , 0.1292911 ],\n",
       "       [0.51065891, 0.48934109],\n",
       "       [0.8707089 , 0.1292911 ],\n",
       "       [0.03504741, 0.96495259],\n",
       "       [0.83826195, 0.16173805],\n",
       "       [0.8707089 , 0.1292911 ],\n",
       "       [0.8707089 , 0.1292911 ],\n",
       "       [0.51065891, 0.48934109],\n",
       "       [0.8707089 , 0.1292911 ],\n",
       "       [0.8707089 , 0.1292911 ],\n",
       "       [0.8707089 , 0.1292911 ],\n",
       "       [0.8707089 , 0.1292911 ],\n",
       "       [0.83826195, 0.16173805],\n",
       "       [0.83826195, 0.16173805],\n",
       "       [0.51065891, 0.48934109],\n",
       "       [0.03504741, 0.96495259],\n",
       "       [0.51065891, 0.48934109],\n",
       "       [0.03504741, 0.96495259],\n",
       "       [0.8707089 , 0.1292911 ],\n",
       "       [0.8707089 , 0.1292911 ],\n",
       "       [0.51065891, 0.48934109],\n",
       "       [0.61429765, 0.38570235],\n",
       "       [0.07324683, 0.92675317],\n",
       "       [0.07324683, 0.92675317],\n",
       "       [0.8707089 , 0.1292911 ],\n",
       "       [0.03504741, 0.96495259],\n",
       "       [0.8707089 , 0.1292911 ],\n",
       "       [0.8707089 , 0.1292911 ],\n",
       "       [0.51065891, 0.48934109],\n",
       "       [0.8707089 , 0.1292911 ],\n",
       "       [0.51065891, 0.48934109],\n",
       "       [0.83826195, 0.16173805],\n",
       "       [0.8707089 , 0.1292911 ],\n",
       "       [0.8707089 , 0.1292911 ],\n",
       "       [0.61429765, 0.38570235],\n",
       "       [0.51065891, 0.48934109],\n",
       "       [0.8707089 , 0.1292911 ],\n",
       "       [0.8707089 , 0.1292911 ],\n",
       "       [0.8707089 , 0.1292911 ],\n",
       "       [0.8707089 , 0.1292911 ],\n",
       "       [0.83826195, 0.16173805],\n",
       "       [0.51065891, 0.48934109],\n",
       "       [0.8707089 , 0.1292911 ],\n",
       "       [0.51065891, 0.48934109],\n",
       "       [0.03504741, 0.96495259],\n",
       "       [0.61429765, 0.38570235],\n",
       "       [0.83826195, 0.16173805],\n",
       "       [0.61429765, 0.38570235],\n",
       "       [0.8707089 , 0.1292911 ],\n",
       "       [0.61429765, 0.38570235],\n",
       "       [0.8707089 , 0.1292911 ],\n",
       "       [0.61429765, 0.38570235],\n",
       "       [0.83826195, 0.16173805],\n",
       "       [0.03504741, 0.96495259],\n",
       "       [0.8707089 , 0.1292911 ],\n",
       "       [0.8707089 , 0.1292911 ],\n",
       "       [0.51065891, 0.48934109],\n",
       "       [0.8707089 , 0.1292911 ],\n",
       "       [0.8707089 , 0.1292911 ],\n",
       "       [0.03504741, 0.96495259],\n",
       "       [0.51065891, 0.48934109],\n",
       "       [0.61429765, 0.38570235],\n",
       "       [0.51065891, 0.48934109],\n",
       "       [0.51065891, 0.48934109],\n",
       "       [0.8707089 , 0.1292911 ],\n",
       "       [0.07324683, 0.92675317],\n",
       "       [0.8707089 , 0.1292911 ],\n",
       "       [0.83826195, 0.16173805],\n",
       "       [0.51065891, 0.48934109],\n",
       "       [0.61429765, 0.38570235],\n",
       "       [0.8707089 , 0.1292911 ],\n",
       "       [0.03504741, 0.96495259],\n",
       "       [0.51065891, 0.48934109],\n",
       "       [0.8707089 , 0.1292911 ],\n",
       "       [0.8707089 , 0.1292911 ],\n",
       "       [0.8707089 , 0.1292911 ],\n",
       "       [0.8707089 , 0.1292911 ],\n",
       "       [0.8707089 , 0.1292911 ],\n",
       "       [0.07324683, 0.92675317],\n",
       "       [0.07324683, 0.92675317],\n",
       "       [0.61429765, 0.38570235],\n",
       "       [0.07324683, 0.92675317],\n",
       "       [0.03504741, 0.96495259],\n",
       "       [0.83826195, 0.16173805],\n",
       "       [0.61429765, 0.38570235],\n",
       "       [0.03504741, 0.96495259],\n",
       "       [0.8707089 , 0.1292911 ],\n",
       "       [0.03504741, 0.96495259],\n",
       "       [0.83826195, 0.16173805],\n",
       "       [0.07324683, 0.92675317],\n",
       "       [0.8707089 , 0.1292911 ],\n",
       "       [0.51065891, 0.48934109],\n",
       "       [0.83826195, 0.16173805],\n",
       "       [0.83826195, 0.16173805],\n",
       "       [0.61429765, 0.38570235],\n",
       "       [0.8707089 , 0.1292911 ],\n",
       "       [0.83826195, 0.16173805],\n",
       "       [0.83826195, 0.16173805],\n",
       "       [0.8707089 , 0.1292911 ],\n",
       "       [0.61429765, 0.38570235],\n",
       "       [0.51065891, 0.48934109],\n",
       "       [0.83826195, 0.16173805],\n",
       "       [0.51065891, 0.48934109],\n",
       "       [0.51065891, 0.48934109],\n",
       "       [0.8707089 , 0.1292911 ],\n",
       "       [0.61429765, 0.38570235],\n",
       "       [0.07324683, 0.92675317],\n",
       "       [0.83826195, 0.16173805],\n",
       "       [0.61429765, 0.38570235],\n",
       "       [0.51065891, 0.48934109],\n",
       "       [0.83826195, 0.16173805],\n",
       "       [0.03504741, 0.96495259],\n",
       "       [0.8707089 , 0.1292911 ],\n",
       "       [0.8707089 , 0.1292911 ],\n",
       "       [0.8707089 , 0.1292911 ],\n",
       "       [0.83826195, 0.16173805],\n",
       "       [0.07324683, 0.92675317],\n",
       "       [0.51065891, 0.48934109],\n",
       "       [0.61429765, 0.38570235],\n",
       "       [0.51065891, 0.48934109],\n",
       "       [0.61429765, 0.38570235],\n",
       "       [0.03504741, 0.96495259],\n",
       "       [0.8707089 , 0.1292911 ],\n",
       "       [0.07324683, 0.92675317],\n",
       "       [0.8707089 , 0.1292911 ],\n",
       "       [0.07324683, 0.92675317],\n",
       "       [0.8707089 , 0.1292911 ],\n",
       "       [0.03504741, 0.96495259],\n",
       "       [0.51065891, 0.48934109],\n",
       "       [0.8707089 , 0.1292911 ],\n",
       "       [0.51065891, 0.48934109],\n",
       "       [0.8707089 , 0.1292911 ],\n",
       "       [0.83826195, 0.16173805],\n",
       "       [0.83826195, 0.16173805],\n",
       "       [0.03504741, 0.96495259],\n",
       "       [0.8707089 , 0.1292911 ],\n",
       "       [0.8707089 , 0.1292911 ],\n",
       "       [0.61429765, 0.38570235],\n",
       "       [0.8707089 , 0.1292911 ],\n",
       "       [0.61429765, 0.38570235],\n",
       "       [0.8707089 , 0.1292911 ],\n",
       "       [0.07324683, 0.92675317],\n",
       "       [0.03504741, 0.96495259],\n",
       "       [0.03504741, 0.96495259],\n",
       "       [0.07324683, 0.92675317],\n",
       "       [0.61429765, 0.38570235],\n",
       "       [0.8707089 , 0.1292911 ],\n",
       "       [0.8707089 , 0.1292911 ],\n",
       "       [0.61429765, 0.38570235],\n",
       "       [0.07324683, 0.92675317],\n",
       "       [0.83826195, 0.16173805],\n",
       "       [0.07324683, 0.92675317],\n",
       "       [0.51065891, 0.48934109],\n",
       "       [0.07324683, 0.92675317],\n",
       "       [0.8707089 , 0.1292911 ],\n",
       "       [0.61429765, 0.38570235],\n",
       "       [0.8707089 , 0.1292911 ],\n",
       "       [0.8707089 , 0.1292911 ],\n",
       "       [0.8707089 , 0.1292911 ],\n",
       "       [0.8707089 , 0.1292911 ],\n",
       "       [0.8707089 , 0.1292911 ],\n",
       "       [0.07324683, 0.92675317],\n",
       "       [0.8707089 , 0.1292911 ],\n",
       "       [0.8707089 , 0.1292911 ],\n",
       "       [0.8707089 , 0.1292911 ],\n",
       "       [0.07324683, 0.92675317],\n",
       "       [0.51065891, 0.48934109],\n",
       "       [0.83826195, 0.16173805],\n",
       "       [0.8707089 , 0.1292911 ],\n",
       "       [0.61429765, 0.38570235],\n",
       "       [0.8707089 , 0.1292911 ],\n",
       "       [0.51065891, 0.48934109],\n",
       "       [0.8707089 , 0.1292911 ],\n",
       "       [0.61429765, 0.38570235],\n",
       "       [0.8707089 , 0.1292911 ],\n",
       "       [0.03504741, 0.96495259],\n",
       "       [0.51065891, 0.48934109],\n",
       "       [0.8707089 , 0.1292911 ],\n",
       "       [0.07324683, 0.92675317],\n",
       "       [0.83826195, 0.16173805],\n",
       "       [0.83826195, 0.16173805],\n",
       "       [0.83826195, 0.16173805],\n",
       "       [0.83826195, 0.16173805],\n",
       "       [0.51065891, 0.48934109],\n",
       "       [0.8707089 , 0.1292911 ],\n",
       "       [0.51065891, 0.48934109],\n",
       "       [0.51065891, 0.48934109],\n",
       "       [0.51065891, 0.48934109],\n",
       "       [0.8707089 , 0.1292911 ],\n",
       "       [0.8707089 , 0.1292911 ],\n",
       "       [0.61429765, 0.38570235],\n",
       "       [0.8707089 , 0.1292911 ],\n",
       "       [0.8707089 , 0.1292911 ],\n",
       "       [0.61429765, 0.38570235],\n",
       "       [0.51065891, 0.48934109],\n",
       "       [0.8707089 , 0.1292911 ],\n",
       "       [0.61429765, 0.38570235],\n",
       "       [0.8707089 , 0.1292911 ],\n",
       "       [0.8707089 , 0.1292911 ],\n",
       "       [0.07324683, 0.92675317],\n",
       "       [0.8707089 , 0.1292911 ],\n",
       "       [0.61429765, 0.38570235],\n",
       "       [0.8707089 , 0.1292911 ],\n",
       "       [0.8707089 , 0.1292911 ],\n",
       "       [0.83826195, 0.16173805],\n",
       "       [0.83826195, 0.16173805],\n",
       "       [0.8707089 , 0.1292911 ],\n",
       "       [0.51065891, 0.48934109],\n",
       "       [0.03504741, 0.96495259],\n",
       "       [0.61429765, 0.38570235],\n",
       "       [0.8707089 , 0.1292911 ],\n",
       "       [0.61429765, 0.38570235],\n",
       "       [0.51065891, 0.48934109],\n",
       "       [0.8707089 , 0.1292911 ],\n",
       "       [0.8707089 , 0.1292911 ],\n",
       "       [0.8707089 , 0.1292911 ],\n",
       "       [0.51065891, 0.48934109],\n",
       "       [0.03504741, 0.96495259],\n",
       "       [0.51065891, 0.48934109],\n",
       "       [0.61429765, 0.38570235],\n",
       "       [0.83826195, 0.16173805],\n",
       "       [0.8707089 , 0.1292911 ],\n",
       "       [0.83826195, 0.16173805],\n",
       "       [0.8707089 , 0.1292911 ],\n",
       "       [0.8707089 , 0.1292911 ],\n",
       "       [0.83826195, 0.16173805],\n",
       "       [0.61429765, 0.38570235],\n",
       "       [0.03504741, 0.96495259],\n",
       "       [0.8707089 , 0.1292911 ],\n",
       "       [0.07324683, 0.92675317],\n",
       "       [0.61429765, 0.38570235],\n",
       "       [0.83826195, 0.16173805],\n",
       "       [0.83826195, 0.16173805],\n",
       "       [0.07324683, 0.92675317],\n",
       "       [0.61429765, 0.38570235],\n",
       "       [0.8707089 , 0.1292911 ],\n",
       "       [0.51065891, 0.48934109],\n",
       "       [0.8707089 , 0.1292911 ],\n",
       "       [0.61429765, 0.38570235],\n",
       "       [0.83826195, 0.16173805],\n",
       "       [0.8707089 , 0.1292911 ],\n",
       "       [0.83826195, 0.16173805],\n",
       "       [0.8707089 , 0.1292911 ],\n",
       "       [0.83826195, 0.16173805],\n",
       "       [0.8707089 , 0.1292911 ],\n",
       "       [0.8707089 , 0.1292911 ],\n",
       "       [0.03504741, 0.96495259],\n",
       "       [0.8707089 , 0.1292911 ],\n",
       "       [0.51065891, 0.48934109],\n",
       "       [0.83826195, 0.16173805],\n",
       "       [0.51065891, 0.48934109],\n",
       "       [0.83826195, 0.16173805],\n",
       "       [0.07324683, 0.92675317],\n",
       "       [0.03504741, 0.96495259],\n",
       "       [0.83826195, 0.16173805],\n",
       "       [0.83826195, 0.16173805],\n",
       "       [0.83826195, 0.16173805],\n",
       "       [0.51065891, 0.48934109],\n",
       "       [0.61429765, 0.38570235],\n",
       "       [0.03504741, 0.96495259],\n",
       "       [0.8707089 , 0.1292911 ],\n",
       "       [0.8707089 , 0.1292911 ],\n",
       "       [0.51065891, 0.48934109],\n",
       "       [0.8707089 , 0.1292911 ],\n",
       "       [0.07324683, 0.92675317],\n",
       "       [0.07324683, 0.92675317],\n",
       "       [0.8707089 , 0.1292911 ],\n",
       "       [0.03504741, 0.96495259],\n",
       "       [0.51065891, 0.48934109],\n",
       "       [0.8707089 , 0.1292911 ],\n",
       "       [0.51065891, 0.48934109],\n",
       "       [0.03504741, 0.96495259],\n",
       "       [0.83826195, 0.16173805],\n",
       "       [0.83826195, 0.16173805],\n",
       "       [0.03504741, 0.96495259],\n",
       "       [0.61429765, 0.38570235],\n",
       "       [0.83826195, 0.16173805],\n",
       "       [0.03504741, 0.96495259],\n",
       "       [0.03504741, 0.96495259],\n",
       "       [0.51065891, 0.48934109],\n",
       "       [0.83826195, 0.16173805],\n",
       "       [0.61429765, 0.38570235],\n",
       "       [0.8707089 , 0.1292911 ],\n",
       "       [0.8707089 , 0.1292911 ],\n",
       "       [0.8707089 , 0.1292911 ],\n",
       "       [0.51065891, 0.48934109],\n",
       "       [0.51065891, 0.48934109],\n",
       "       [0.83826195, 0.16173805],\n",
       "       [0.07324683, 0.92675317],\n",
       "       [0.8707089 , 0.1292911 ],\n",
       "       [0.83826195, 0.16173805],\n",
       "       [0.8707089 , 0.1292911 ],\n",
       "       [0.8707089 , 0.1292911 ],\n",
       "       [0.61429765, 0.38570235],\n",
       "       [0.03504741, 0.96495259],\n",
       "       [0.8707089 , 0.1292911 ],\n",
       "       [0.83826195, 0.16173805],\n",
       "       [0.8707089 , 0.1292911 ],\n",
       "       [0.03504741, 0.96495259],\n",
       "       [0.8707089 , 0.1292911 ],\n",
       "       [0.03504741, 0.96495259],\n",
       "       [0.8707089 , 0.1292911 ],\n",
       "       [0.8707089 , 0.1292911 ],\n",
       "       [0.03504741, 0.96495259],\n",
       "       [0.83826195, 0.16173805],\n",
       "       [0.03504741, 0.96495259],\n",
       "       [0.61429765, 0.38570235],\n",
       "       [0.61429765, 0.38570235],\n",
       "       [0.83826195, 0.16173805],\n",
       "       [0.83826195, 0.16173805],\n",
       "       [0.61429765, 0.38570235],\n",
       "       [0.51065891, 0.48934109],\n",
       "       [0.51065891, 0.48934109],\n",
       "       [0.51065891, 0.48934109],\n",
       "       [0.03504741, 0.96495259],\n",
       "       [0.51065891, 0.48934109],\n",
       "       [0.8707089 , 0.1292911 ],\n",
       "       [0.03504741, 0.96495259],\n",
       "       [0.8707089 , 0.1292911 ],\n",
       "       [0.8707089 , 0.1292911 ],\n",
       "       [0.8707089 , 0.1292911 ]])"
      ]
     },
     "execution_count": 97,
     "metadata": {},
     "output_type": "execute_result"
    }
   ],
   "source": [
    "rf.predict_proba(X_test)"
   ]
  },
  {
   "cell_type": "code",
   "execution_count": 98,
   "metadata": {},
   "outputs": [],
   "source": [
    "#takes the value of all individual trees and where they fell"
   ]
  },
  {
   "cell_type": "code",
   "execution_count": null,
   "metadata": {},
   "outputs": [],
   "source": []
  }
 ],
 "metadata": {
  "kernelspec": {
   "display_name": "Python 3",
   "language": "python",
   "name": "python3"
  },
  "language_info": {
   "codemirror_mode": {
    "name": "ipython",
    "version": 3
   },
   "file_extension": ".py",
   "mimetype": "text/x-python",
   "name": "python",
   "nbconvert_exporter": "python",
   "pygments_lexer": "ipython3",
   "version": "3.7.3"
  }
 },
 "nbformat": 4,
 "nbformat_minor": 2
}
